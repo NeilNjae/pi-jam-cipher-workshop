{
 "cells": [
  {
   "cell_type": "code",
   "execution_count": null,
   "metadata": {},
   "outputs": [],
   "source": [
    "best_key = 0\n",
    "best_prob = float('-inf')\n",
    "\n",
    "for key in range(26):\n",
    "    plaintext = caesar_decipher(ciphertext, key)\n",
    "    log_prob_score = log_text_probability(plaintext)\n",
    "    \n",
    "    if log_prob_score > best_prob:\n",
    "        best_prob = log_prob_score\n",
    "        best_key = key\n",
    "        print(plaintext, '<=', key, '::', log_prob_score)\n",
    "\n",
    "print()        \n",
    "print('Best key:', best_key, '; best score:', best_prob)\n",
    "print('Found plaintext:', caesar_decipher(ciphertext, best_key))"
   ]
  }
 ],
 "metadata": {
  "kernelspec": {
   "display_name": "Python 3",
   "language": "python",
   "name": "python3"
  },
  "language_info": {
   "codemirror_mode": {
    "name": "ipython",
    "version": 3
   },
   "file_extension": ".py",
   "mimetype": "text/x-python",
   "name": "python",
   "nbconvert_exporter": "python",
   "pygments_lexer": "ipython3",
   "version": "3.6.3"
  }
 },
 "nbformat": 4,
 "nbformat_minor": 2
}
