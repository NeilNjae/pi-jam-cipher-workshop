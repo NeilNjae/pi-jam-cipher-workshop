{
 "cells": [
  {
   "cell_type": "markdown",
   "metadata": {},
   "source": [
    "# Breaking Caesar ciphers\n",
    "Now we can enciper and decipher with a Caesar cipher, the next step is to write a program to automatically break enciphered messages. "
   ]
  },
  {
   "cell_type": "markdown",
   "metadata": {},
   "source": [
    "## The basic idea\n",
    "The basic model is simple: we'll get the computer to try all the keys and see which is the best.\n",
    "\n",
    "\"Trying all the keys\" is simple: for a Caesar cipher, we just run through the shifts 0–25.\n",
    "\n",
    "Finding which is \"best\" is somewhat tricker. How do we know which is the best possible decryption? For complex ciphers, and long ciphertexts, we don't want to rely on a human to make the decision. "
   ]
  },
  {
   "cell_type": "markdown",
   "metadata": {},
   "source": [
    "## Recap: Caesar ciphers\n",
    "We're just repeating the Caesar cipher implmentation from the previous notebook."
   ]
  },
  {
   "cell_type": "code",
   "execution_count": 12,
   "metadata": {},
   "outputs": [],
   "source": [
    "def pos(letter): \n",
    "    \"\"\"Return the position of a letter in the alphabet (0-25)\"\"\"\n",
    "    if letter in string.ascii_lowercase:\n",
    "        return ord(letter) - ord('a')\n",
    "    elif letter in string.ascii_uppercase:\n",
    "        return ord(letter) - ord('A')\n",
    "    else:\n",
    "        raise ValueError('pos requires input of {} to be an ascii letter'.format(letter))"
   ]
  },
  {
   "cell_type": "code",
   "execution_count": 13,
   "metadata": {},
   "outputs": [],
   "source": [
    "def unpos(number): \n",
    "    \"\"\"Return the letter in the given position in the alphabet (mod 26)\"\"\"\n",
    "    return chr(number % 26 + ord('a'))"
   ]
  },
  {
   "cell_type": "code",
   "execution_count": 14,
   "metadata": {},
   "outputs": [],
   "source": [
    "def caesar_encipher_letter(letter, shift):\n",
    "    \"\"\"Encipher a letter, given a shift amount\"\"\"\n",
    "    if letter in string.ascii_letters:\n",
    "        cipherletter = unpos(pos(letter) + shift)\n",
    "        if letter in string.ascii_uppercase:\n",
    "            return cipherletter.upper()\n",
    "        else:\n",
    "            return cipherletter\n",
    "    else:\n",
    "        return letter      "
   ]
  },
  {
   "cell_type": "code",
   "execution_count": 15,
   "metadata": {},
   "outputs": [],
   "source": [
    "def caesar_encipher(message, shift):\n",
    "    \"\"\"Encipher a message with the Caesar cipher of given shift\"\"\"\n",
    "    enciphered = \"\"\n",
    "    for character in message:\n",
    "        enciphered.append(caesar_encipher_letter(l, shift))\n",
    "    return enciphered"
   ]
  },
  {
   "cell_type": "code",
   "execution_count": 16,
   "metadata": {},
   "outputs": [],
   "source": [
    "def caesar_decipher(message, shift):\n",
    "    \"\"\"Decipher a message with the Caesar cipher of given shift\"\"\"\n",
    "    return caesar_encipher(message, -shift)"
   ]
  },
  {
   "cell_type": "code",
   "execution_count": 18,
   "metadata": {},
   "outputs": [],
   "source": [
    "cat = ''.join"
   ]
  },
  {
   "cell_type": "code",
   "execution_count": 19,
   "metadata": {},
   "outputs": [
    {
     "data": {
      "text/plain": [
       "'Xlmw mw e xiwx qiwweki.'"
      ]
     },
     "execution_count": 19,
     "metadata": {},
     "output_type": "execute_result"
    }
   ],
   "source": [
    "caesar_encipher('This is a test message.', 4)"
   ]
  },
  {
   "cell_type": "code",
   "execution_count": 20,
   "metadata": {},
   "outputs": [
    {
     "data": {
      "text/plain": [
       "'This is a test message.'"
      ]
     },
     "execution_count": 20,
     "metadata": {},
     "output_type": "execute_result"
    }
   ],
   "source": [
    "caesar_decipher('Xlmw mw e xiwx qiwweki.', 4)"
   ]
  },
  {
   "cell_type": "markdown",
   "metadata": {},
   "source": [
    "## A language model\n",
    "![Monkey typing](Monkey-typing.jpg) \n",
    "\n",
    "My approach takes the idea from the apocryphal story that an infinite number of moneys, with an infinite number of typewriters, will eventually create the complete works of Shakespeare. As the computer tries each key, generating a possible plaintext, it can score the possible plaintext by how likely it would be for a monkey, completely randomly, to generate that plaintext. \n",
    "\n",
    "![English letters by proportion](letter-treemap.png) \n",
    "\n",
    "That idea isn't that helpful when all the letters are equally likely. But if the money is using a keyboard where the keys are sized in proportion to how often they appear in English, we have something. The diagram to the right gives an idea of what such a keyboard could look like. A monkey using that keyboard, htting keys at random, will produce something like *treattlpis* than *nziuechjtk*.\n",
    "\n",
    "That allows us to score how close a piece of text is to English. If we can work out the probability of how likely a random monkey would be to produce our possible plaintext, we can choose the key which produces the most likely plaintext.\n",
    "\n",
    "(This model is also called a _bag of letters_ model, as it's the same as taking all the letters in the text and putting them in a bag, losing all idea of the order of letters. While we lose a lot of information with this, it's actually good enough for our purposes.)"
   ]
  },
  {
   "cell_type": "markdown",
   "metadata": {},
   "source": [
    "## Finding letter probabilities\n",
    "How do we find these probabilities? The easy answer is to simply read a lot of text, counting the letters. Let's use three large texts: the [complete works of Shakespeare](https://www.gutenberg.org/ebooks/100), [War and Peace](https://www.gutenberg.org/ebooks/2600), and [The Adventures of Sherlock Holmes](https://www.gutenberg.org/ebooks/48320), all from [Project Gutenberg](https://www.gutenberg.org/wiki/Main_Page).\n",
    "\n",
    "The Python [`collections.Counter()`](https://docs.python.org/3/library/collections.html#collections.Counter) object from the standard library does a good job of counting letters for us. If we pass a `Counter` a sequence of characters, it will count them for us:"
   ]
  },
  {
   "cell_type": "code",
   "execution_count": 1,
   "metadata": {},
   "outputs": [
    {
     "data": {
      "text/plain": [
       "Counter({'t': 5,\n",
       "         'h': 1,\n",
       "         'i': 2,\n",
       "         's': 4,\n",
       "         ' ': 4,\n",
       "         'o': 1,\n",
       "         'm': 1,\n",
       "         'e': 3,\n",
       "         'x': 1})"
      ]
     },
     "execution_count": 1,
     "metadata": {},
     "output_type": "execute_result"
    }
   ],
   "source": [
    "import collections\n",
    "collections.Counter('this is some test text')"
   ]
  },
  {
   "cell_type": "markdown",
   "metadata": {},
   "source": [
    "If we `update` the `Counter`, it will update the counts for us:"
   ]
  },
  {
   "cell_type": "code",
   "execution_count": 2,
   "metadata": {},
   "outputs": [
    {
     "data": {
      "text/plain": [
       "Counter({'t': 3,\n",
       "         'h': 1,\n",
       "         'i': 2,\n",
       "         's': 3,\n",
       "         ' ': 3,\n",
       "         'o': 1,\n",
       "         'm': 1,\n",
       "         'e': 2,\n",
       "         'x': 1})"
      ]
     },
     "execution_count": 2,
     "metadata": {},
     "output_type": "execute_result"
    }
   ],
   "source": [
    "counts = collections.Counter()\n",
    "counts.update('this is some text')\n",
    "counts"
   ]
  },
  {
   "cell_type": "code",
   "execution_count": 3,
   "metadata": {},
   "outputs": [
    {
     "data": {
      "text/plain": [
       "Counter({'t': 5,\n",
       "         'h': 2,\n",
       "         'i': 3,\n",
       "         's': 5,\n",
       "         ' ': 7,\n",
       "         'o': 3,\n",
       "         'm': 3,\n",
       "         'e': 7,\n",
       "         'x': 2,\n",
       "         'r': 2})"
      ]
     },
     "execution_count": 3,
     "metadata": {},
     "output_type": "execute_result"
    }
   ],
   "source": [
    "counts.update('here is some more text')\n",
    "counts"
   ]
  },
  {
   "cell_type": "markdown",
   "metadata": {},
   "source": [
    "This allows us to easily combine the counts of letters in all the texts, then write them to a file. "
   ]
  },
  {
   "cell_type": "code",
   "execution_count": 4,
   "metadata": {},
   "outputs": [
    {
     "data": {
      "text/plain": [
       "{'a': 490124,\n",
       " 'm': 172199,\n",
       " 'i': 421240,\n",
       " 'd': 267917,\n",
       " 's': 404473,\n",
       " 'u': 190269,\n",
       " 'e': 758091,\n",
       " 'r': 373599,\n",
       " 'n': 419374,\n",
       " 'g': 117888,\n",
       " 'h': 416369,\n",
       " 't': 560576,\n",
       " 'o': 504520,\n",
       " 'w': 154157,\n",
       " 'f': 135318,\n",
       " 'p': 100690,\n",
       " 'l': 259023,\n",
       " 'y': 143040,\n",
       " 'c': 141094,\n",
       " 'b': 92919,\n",
       " 'k': 54248,\n",
       " 'v': 65297,\n",
       " 'q': 5499,\n",
       " 'j': 6679,\n",
       " 'x': 7414,\n",
       " 'z': 3577}"
      ]
     },
     "execution_count": 4,
     "metadata": {},
     "output_type": "execute_result"
    }
   ],
   "source": [
    "import collections\n",
    "import string\n",
    "\n",
    "corpora = ['shakespeare.txt', 'sherlock-holmes.txt', 'war-and-peace.txt']\n",
    "counts = collections.Counter()\n",
    "\n",
    "for corpus in corpora:\n",
    "    text = open(corpus, 'r').read().lower()\n",
    "    counts.update(text)\n",
    "\n",
    "letter_counts = {l: counts[l] for l in counts if l in string.ascii_lowercase}    \n",
    "sorted_letters = sorted(letter_counts, key=counts.get, reverse=True)\n",
    "\n",
    "with open('count_1l.txt', 'w') as f:\n",
    "    for l in letter_counts:\n",
    "        f.write(\"{0}\\t{1}\\n\".format(l, counts[l]))\n",
    "\n",
    "letter_counts"
   ]
  },
  {
   "cell_type": "markdown",
   "metadata": {},
   "source": [
    "## Using the language model\n",
    "Now we have the letter counts, we need to use them to score possible plaintexts. There are two stages here:\n",
    "1. Convert the counts into probabilities;\n",
    "2. Score a piece of text for how probable it is (by the random monkey metric)."
   ]
  },
  {
   "cell_type": "markdown",
   "metadata": {},
   "source": [
    "## Converting the counts to probabilities\n",
    "This just requires working out what proportion each letter is of the total counts. This process is called _normalisation_. We can find the total of all the counts with `sum(counts.values())`, and finding the normalised version of the counts with:"
   ]
  },
  {
   "cell_type": "code",
   "execution_count": 5,
   "metadata": {},
   "outputs": [
    {
     "data": {
      "text/plain": [
       "{'a': 0.07822466632852368,\n",
       " 'm': 0.0274832681466434,\n",
       " 'i': 0.06723065682200283,\n",
       " 'd': 0.04276003200973443,\n",
       " 's': 0.06455461365674188,\n",
       " 'u': 0.03036727244056988,\n",
       " 'e': 0.12099267842761596,\n",
       " 'r': 0.059627068080057535,\n",
       " 'n': 0.06693283988716792,\n",
       " 'g': 0.0188151354843611,\n",
       " 'h': 0.06645323651676122,\n",
       " 't': 0.08946893143730666,\n",
       " 'o': 0.08052229365643544,\n",
       " 'w': 0.024603732702757314,\n",
       " 'f': 0.02159699463450712,\n",
       " 'p': 0.016070303948835497,\n",
       " 'l': 0.041340533714760326,\n",
       " 'y': 0.022829439634933255,\n",
       " 'c': 0.022518854557125788,\n",
       " 'b': 0.01483003846083867,\n",
       " 'k': 0.00865807774969141,\n",
       " 'v': 0.010421517895988792,\n",
       " 'q': 0.0008776502275761883,\n",
       " 'j': 0.001065980336421415,\n",
       " 'x': 0.0011832876499817894,\n",
       " 'z': 0.0005708955926604884}"
      ]
     },
     "execution_count": 5,
     "metadata": {},
     "output_type": "execute_result"
    }
   ],
   "source": [
    "normalised_counts = {letter: count / sum(letter_counts.values())\n",
    "    for letter, count in letter_counts.items() }\n",
    "normalised_counts"
   ]
  },
  {
   "cell_type": "markdown",
   "metadata": {},
   "source": [
    "## Score a piece of text\n",
    "We can use these to find the probability of a sequence of letters by finding the probability of each letter, then multiplying them all together. \n",
    "\n",
    "But the final values will be very small for long texts. There's a danger that with a long text, we'll end up with a number that's too small to represent. \n",
    "\n",
    "We can get around this by using the \"trick\" of taking logarithms of probabilities. As numbers get smaller, their logarithms get smaller, but much less quickly. This means we can still handle the probability of long texts, while still being able to see which is the most probable. \n",
    "\n",
    "To find the log probability of a sequence of letters, we find the log probability of each letter, then just add them up, using Python's built-in `sum()`.\n",
    "\n",
    "We find the log probabilities of each letter in much the same way as before. We define a convenience function `Pletters` which finds the log probability of a letter sequence. Note that `Pletters` assumes it is only passed lower-case letters: anything else will cause it to raise an error."
   ]
  },
  {
   "cell_type": "code",
   "execution_count": 30,
   "metadata": {},
   "outputs": [],
   "source": [
    "import math\n",
    "Pl = {letter: math.log10(count / sum(counts.values()))\n",
    "    for letter, count in letter_counts.items() }\n",
    "    \n",
    "def Pletters(letters):\n",
    "    return sum(Pl[letter] for letter in letters)"
   ]
  },
  {
   "cell_type": "markdown",
   "metadata": {},
   "source": [
    "We can get around that limitation by defining `sanitise`, which removes everthing apart from letters from a piece of text, and converts all the letters to lowercase."
   ]
  },
  {
   "cell_type": "code",
   "execution_count": 36,
   "metadata": {},
   "outputs": [],
   "source": [
    "def sanitise(text):\n",
    "    return cat(l for l in text.lower() \n",
    "               if l in string.ascii_lowercase)"
   ]
  },
  {
   "cell_type": "markdown",
   "metadata": {},
   "source": [
    "We can use that to find some log probabilities:"
   ]
  },
  {
   "cell_type": "code",
   "execution_count": 31,
   "metadata": {},
   "outputs": [
    {
     "data": {
      "text/plain": [
       "-6.578324107946823"
      ]
     },
     "execution_count": 31,
     "metadata": {},
     "output_type": "execute_result"
    }
   ],
   "source": [
    "Pletters('hello')"
   ]
  },
  {
   "cell_type": "code",
   "execution_count": 34,
   "metadata": {},
   "outputs": [
    {
     "data": {
      "text/plain": [
       "-12.485441714891119"
      ]
     },
     "execution_count": 34,
     "metadata": {},
     "output_type": "execute_result"
    }
   ],
   "source": [
    "Pletters('hellothere')"
   ]
  },
  {
   "cell_type": "markdown",
   "metadata": {},
   "source": [
    "Much better values!\n",
    "\n",
    "We've ended up with a simple _model_ of the English language, which we can use to judge how likely a given piece of text is actually English. "
   ]
  },
  {
   "cell_type": "markdown",
   "metadata": {},
   "source": [
    "## Breaking Caesar ciphers\n",
    "Finally, we can use `Pletters` to score possible plaintexts, and hence automatically break Caesar ciphers!"
   ]
  },
  {
   "cell_type": "code",
   "execution_count": 37,
   "metadata": {},
   "outputs": [],
   "source": [
    "def caesar_break(dirty_message):\n",
    "    \"\"\"Breaks a Caesar cipher using frequency analysis\"\"\"\n",
    "    message = sanitise(dirty_message)\n",
    "    best_shift = 0\n",
    "    best_fit = float('-inf')\n",
    "    for shift in range(26):\n",
    "        plaintext = caesar_decipher(message, shift)\n",
    "        fit = Pletters(plaintext)\n",
    "        if fit > best_fit:\n",
    "            best_fit = fit\n",
    "            best_shift = shift\n",
    "    return best_shift, best_fit"
   ]
  },
  {
   "cell_type": "markdown",
   "metadata": {},
   "source": [
    "Let's see if it works. We encipher a message, then see if `caesar_break` returns the correct key."
   ]
  },
  {
   "cell_type": "code",
   "execution_count": 38,
   "metadata": {},
   "outputs": [
    {
     "data": {
      "text/plain": [
       "(17, -41.43440679319847)"
      ]
     },
     "execution_count": 38,
     "metadata": {},
     "output_type": "execute_result"
    }
   ],
   "source": [
    "caesar_encipher('this is a sample message to be decrypted', 17)\n",
    "'kyzj zj r jrdgcv dvjjrxv kf sv uvtipgkvu'\n",
    "caesar_break('kyzj zj r jrdgcv dvjjrxv kf sv uvtipgkvu')\n",
    "(17, -41.43440679319847)"
   ]
  },
  {
   "cell_type": "markdown",
   "metadata": {},
   "source": [
    "Success!\n",
    "\n",
    "Let's try it on something larger: the ciphertext from the [National Cipher Challenge](https://www.cipherchallenge.org/) [2016 challenge 1](https://2016.cipherchallenge.org/challenges/challenge-1/)."
   ]
  },
  {
   "cell_type": "code",
   "execution_count": 39,
   "metadata": {},
   "outputs": [
    {
     "name": "stdout",
     "output_type": "stream",
     "text": [
      "PIZZG,\n",
      "Q PIDM AKIVVML BPM MVKZGXBML VWBM BPM XWTQKM NWCVL WV RIUMTQI'A LMAS IVL IBBIKPML QB NWZ GWC BW TWWS IB. BPM XWTQKM LMKZGXBML QB NWZ BPMUAMTDMA (QB QA DMZG ABZIQOPBNWZEIZL WVKM GWC ZMITQAM BPIB QB PIA JMMV EZQBBMV JIKSEIZLA - QB RCAB CAMA I KIMAIZ APQNB KQXPMZ). BPM WNNQKMZ QV KPIZOM WN BPM QVDMABQOIBQWV UILM QB KTMIZ BW UM BPIB PM BPQVSA BPQA XZWDMA RIUMTQI'A LMIBP QA \"RCAB\" I XMZAWVIT BZIOMLG. KIZMTMAA CAM WN BPM EWZL \"RCAB\" MDMV QN PM QA ZQOPB, JCB Q LWV'B BPQVS PM QA. Q PIDM AXWSMV BW PMZ KWTTMIOCMA, IVL RIUMTQI LWMAV'B ABZQSM UM IA I RCUXMZ. APM EIA XZMBBG LZQDMV IVL PMZ EWZS EIA OWQVO MFBZMUMTG EMTT. IXXIZMVBTG APM EIA CVPIXXG IJWCB PMZ JWGNZQMVL TMIDQVO, JCB I YCQKS AKIV WN PMZ AMIZKP PQABWZG ACOOMABA APM EIA XZMBBG IKBQDM QV BZGQVO BW BZIKS PQU LWEV. BPM XWTQKM BPQVS BPIB APWEA PWE LMAXMZIBM APM EIA. Q BPQVS QB APWEA BPIB APM EIAV'B BPM AWZB BW OQDM CX MIAQTG.\n",
      "WV WVM BPQVO Q LW IOZMM EQBP BPM XWTQKM, QB LWMAV'B AMMU DMZG TQSMTG BPIB I XPGAQKQAB EWZSQVO WV OZIDQBG EIDMA QA KICOPB CX QV IVGBPQVO BWW ACAXQKQWCA. PMZ IZMI QA EMTT NCVLML IVL AQVKM BPM LQAKWDMZG WN OZIDQBG EIDMA I NME UWVBPA IOW QB QA QV BPM AXWBTQOPB. PMZ PMIL WN LMXIZBUMVB AIGA RIUMTQI EIA LMABQVML NWZ I OWWL KIZMMZ, IVL Q KIV'B AMM IVGBPQVO QV PMZ EWZS BPIB EWCTL JM WN QVBMZMAB BW LIZSVMB WZ OWDMZVUMVB IKBWZA.\n",
      "BW JM PWVMAB Q IU CVACZM QN Q IU KPIAQVO APILWEA PMZM, JCB BPMV APILWE KPIAQVO QA WVM WN GWCZ AXMKQITQBQMA AW Q EWCTL JM ZMITTG OZIBMNCT QN GWC KWCTL BISM I TWWS IVL TMB UM SVWE QN GWC BPQVS Q IU EIABQVO GWCZ BQUM.\n",
      "\n",
      "BPIVSA,\n",
      "\n",
      "KPIZTQM\n",
      "\n"
     ]
    }
   ],
   "source": [
    "c1a = open('2016-1a.ciphertext').read()\n",
    "print(c1a)"
   ]
  },
  {
   "cell_type": "code",
   "execution_count": 42,
   "metadata": {},
   "outputs": [
    {
     "data": {
      "text/plain": [
       "(8, -1698.9474014903544)"
      ]
     },
     "execution_count": 42,
     "metadata": {},
     "output_type": "execute_result"
    }
   ],
   "source": [
    "key, fitness = caesar_break(c1a)\n",
    "key, fitness"
   ]
  },
  {
   "cell_type": "code",
   "execution_count": 41,
   "metadata": {},
   "outputs": [
    {
     "name": "stdout",
     "output_type": "stream",
     "text": [
      "HARRY,\n",
      "I HAVE SCANNED THE ENCRYPTED NOTE THE POLICE FOUND ON JAMELIA'S DESK AND ATTACHED IT FOR YOU TO LOOK AT. THE POLICE DECRYPTED IT FOR THEMSELVES (IT IS VERY STRAIGHTFORWARD ONCE YOU REALISE THAT IT HAS BEEN WRITTEN BACKWARDS - IT JUST USES A CAESAR SHIFT CIPHER). THE OFFICER IN CHARGE OF THE INVESTIGATION MADE IT CLEAR TO ME THAT HE THINKS THIS PROVES JAMELIA'S DEATH IS \"JUST\" A PERSONAL TRAGEDY. CARELESS USE OF THE WORD \"JUST\" EVEN IF HE IS RIGHT, BUT I DON'T THINK HE IS. I HAVE SPOKEN TO HER COLLEAGUES, AND JAMELIA DOESN'T STRIKE ME AS A JUMPER. SHE WAS PRETTY DRIVEN AND HER WORK WAS GOING EXTREMELY WELL. APPARENTLY SHE WAS UNHAPPY ABOUT HER BOYFRIEND LEAVING, BUT A QUICK SCAN OF HER SEARCH HISTORY SUGGESTS SHE WAS PRETTY ACTIVE IN TRYING TO TRACK HIM DOWN. THE POLICE THINK THAT SHOWS HOW DESPERATE SHE WAS. I THINK IT SHOWS THAT SHE WASN'T THE SORT TO GIVE UP EASILY.\n",
      "ON ONE THING I DO AGREE WITH THE POLICE, IT DOESN'T SEEM VERY LIKELY THAT A PHYSICIST WORKING ON GRAVITY WAVES IS CAUGHT UP IN ANYTHING TOO SUSPICIOUS. HER AREA IS WELL FUNDED AND SINCE THE DISCOVERY OF GRAVITY WAVES A FEW MONTHS AGO IT IS IN THE SPOTLIGHT. HER HEAD OF DEPARTMENT SAYS JAMELIA WAS DESTINED FOR A GOOD CAREER, AND I CAN'T SEE ANYTHING IN HER WORK THAT WOULD BE OF INTEREST TO DARKNET OR GOVERNMENT ACTORS.\n",
      "TO BE HONEST I AM UNSURE IF I AM CHASING SHADOWS HERE, BUT THEN SHADOW CHASING IS ONE OF YOUR SPECIALITIES SO I WOULD BE REALLY GRATEFUL IF YOU COULD TAKE A LOOK AND LET ME KNOW IF YOU THINK I AM WASTING YOUR TIME.\n",
      "\n",
      "THANKS,\n",
      "\n",
      "CHARLIE\n",
      "\n"
     ]
    }
   ],
   "source": [
    "print(caesar_decipher(c1a, key))"
   ]
  },
  {
   "cell_type": "code",
   "execution_count": null,
   "metadata": {},
   "outputs": [],
   "source": []
  }
 ],
 "metadata": {
  "kernelspec": {
   "display_name": "Python 3",
   "language": "python",
   "name": "python3"
  },
  "language_info": {
   "codemirror_mode": {
    "name": "ipython",
    "version": 3
   },
   "file_extension": ".py",
   "mimetype": "text/x-python",
   "name": "python",
   "nbconvert_exporter": "python",
   "pygments_lexer": "ipython3",
   "version": "3.6.3"
  }
 },
 "nbformat": 4,
 "nbformat_minor": 2
}
