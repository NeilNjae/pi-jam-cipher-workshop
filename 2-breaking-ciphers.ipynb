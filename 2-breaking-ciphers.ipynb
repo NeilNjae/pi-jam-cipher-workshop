{
 "cells": [
  {
   "cell_type": "markdown",
   "metadata": {},
   "source": [
    "# Breaking Caesar ciphers\n",
    "Now we can enciper and decipher with a Caesar cipher, the next step is to write a program to automatically break enciphered messages. \n",
    "\n",
    "### Want to know more?\n",
    "I've written more about [writing programs for ciphers](https://work.njae.me.uk/tag/codes-and-ciphers/) on [my blog](https://work.njae.me.uk/). You can also grab more [code from Github](https://github.com/NeilNjae/cipher-tools/). Feel free to dive in and take a look!"
   ]
  },
  {
   "cell_type": "markdown",
   "metadata": {},
   "source": [
    "# The basic idea\n",
    "The basic model is simple: we'll get the computer to try all the keys and see which is the best.\n",
    "\n",
    "\"Trying all the keys\" is simple: for a Caesar cipher, we just run through the shifts 0–25.\n",
    "\n",
    "Finding which is \"best\" is somewhat tricker. How do we know which is the best possible decryption? For complex ciphers, and long ciphertexts, we don't want to rely on a human to make the decision. "
   ]
  },
  {
   "cell_type": "markdown",
   "metadata": {},
   "source": [
    "## Recap: Caesar ciphers\n",
    "We're just repeating the Caesar cipher implmentation from the previous notebook."
   ]
  },
  {
   "cell_type": "code",
   "execution_count": null,
   "metadata": {},
   "outputs": [],
   "source": [
    "import string"
   ]
  },
  {
   "cell_type": "code",
   "execution_count": null,
   "metadata": {},
   "outputs": [],
   "source": [
    "def pos(letter): \n",
    "    \"\"\"Return the position of a letter in the alphabet (0-25)\"\"\"\n",
    "    if letter in string.ascii_lowercase:\n",
    "        return ord(letter) - ord('a')\n",
    "    elif letter in string.ascii_uppercase:\n",
    "        return ord(letter) - ord('A')\n",
    "    else:\n",
    "        raise ValueError('pos requires input of {} to be an ascii letter'.format(letter))"
   ]
  },
  {
   "cell_type": "code",
   "execution_count": null,
   "metadata": {},
   "outputs": [],
   "source": [
    "def unpos(number): \n",
    "    \"\"\"Return the letter in the given position in the alphabet (mod 26)\"\"\"\n",
    "    return chr(number % 26 + ord('a'))"
   ]
  },
  {
   "cell_type": "code",
   "execution_count": null,
   "metadata": {},
   "outputs": [],
   "source": [
    "def caesar_encipher_letter(letter, shift):\n",
    "    \"\"\"Encipher a letter, given a shift amount\"\"\"\n",
    "    if letter in string.ascii_letters:\n",
    "        cipherletter = unpos(pos(letter) + shift)\n",
    "        if letter in string.ascii_uppercase:\n",
    "            return cipherletter.upper()\n",
    "        else:\n",
    "            return cipherletter\n",
    "    else:\n",
    "        return letter      "
   ]
  },
  {
   "cell_type": "code",
   "execution_count": null,
   "metadata": {},
   "outputs": [],
   "source": [
    "def caesar_encipher(message, shift):\n",
    "    \"\"\"Encipher a message with the Caesar cipher of given shift\"\"\"\n",
    "    enciphered = \"\"\n",
    "    for character in message:\n",
    "        enciphered += caesar_encipher_letter(character, shift)\n",
    "    return enciphered"
   ]
  },
  {
   "cell_type": "code",
   "execution_count": null,
   "metadata": {},
   "outputs": [],
   "source": [
    "def caesar_decipher(message, shift):\n",
    "    \"\"\"Decipher a message with the Caesar cipher of given shift\"\"\"\n",
    "    return caesar_encipher(message, -shift)"
   ]
  },
  {
   "cell_type": "code",
   "execution_count": null,
   "metadata": {},
   "outputs": [],
   "source": [
    "caesar_encipher('This is a test message.', 4)"
   ]
  },
  {
   "cell_type": "code",
   "execution_count": null,
   "metadata": {},
   "outputs": [],
   "source": [
    "caesar_decipher('Xlmw mw e xiwx qiwweki.', 4)"
   ]
  },
  {
   "cell_type": "markdown",
   "metadata": {},
   "source": [
    "# The New Stuff\n",
    "\n",
    "## Trying all the keys\n",
    "\n",
    "Remember, our approach to automatically breaking ciphers is simple:\n",
    "\n",
    "1. Try all the keys\n",
    "2. For each key, decrypt the message and \"score\" it\n",
    "3. Pick the key with the best \"score\"\n",
    "\n",
    "Trying all the keys is easy. Let's try it for a Caesar cipher. Here's an enciphered message:"
   ]
  },
  {
   "cell_type": "code",
   "execution_count": null,
   "metadata": {},
   "outputs": [],
   "source": [
    "ciphertext = caesar_encipher('This is a test message.', 4)\n",
    "ciphertext"
   ]
  },
  {
   "cell_type": "markdown",
   "metadata": {},
   "source": [
    "And let's try all the keys, seeing what they give."
   ]
  },
  {
   "cell_type": "code",
   "execution_count": null,
   "metadata": {},
   "outputs": [],
   "source": [
    "for key in range(26):\n",
    "    plaintext = caesar_decipher(ciphertext, key)\n",
    "    print(plaintext, '<=', key)"
   ]
  },
  {
   "cell_type": "markdown",
   "metadata": {},
   "source": [
    "From looking at the generated plaintexts, you can probably spot that key 4 gives a sensible text and the others don't. But if you didn't know that `4` was the correct key, it could take you a few moments to find it in the mass of text. It gets harder if the text is longer, and harder still if there are more keys. We want to get a machine to recognise text that looks like English."
   ]
  },
  {
   "cell_type": "markdown",
   "metadata": {},
   "source": [
    "# A language model\n",
    "\n",
    "The idea is to have a _model_ of what English text looks like. When we're presented with a possible plaintext, we can see how well that text fits the model. The better it fits, the more like \"ideal English\" it is. When we run through all the keys, we pick the key that gives a plaintext that looks most like English.\n",
    "\n",
    "![Monkey typing](Monkey-typing.jpg) \n",
    "\n",
    "My approach takes the idea from the apocryphal story that an infinite number of moneys, with an infinite number of typewriters, will eventually create the complete works of Shakespeare. As the computer tries each key, generating a possible plaintext, it can score the possible plaintext by how likely it would be for a monkey, completely randomly, to generate that plaintext. \n",
    "\n",
    "That idea isn't that helpful when all the letters are equally likely. But if the monkey is using a keyboard where the keys are sized in proportion to how often they appear in English, we have something. The diagram below gives an idea of what such a keyboard could look like. A monkey using that keyboard, htting keys at random, will produce something like *treattlpis* more often than *nziuechjtk*.\n",
    "\n",
    "![English letters by proportion](letter-treemap.png) \n",
    "\n",
    "That allows us to score how close a piece of text is to English. If we can work out the probability htat a random monkey would produce our possible plaintext, we can choose the key which produces the most likely plaintext.\n",
    "\n",
    "(This model is also called a _bag of letters_ model, as it's the same as taking all the letters in the text and putting them in a bag, losing all idea of the order of letters. While we lose a lot of information with this, it's actually good enough for our purposes.)"
   ]
  },
  {
   "cell_type": "markdown",
   "metadata": {},
   "source": [
    "## Finding letter probabilities\n",
    "How do we find these probabilities of the letters of English? The easy answer is to simply read a lot of text, counting the letters. Let's use three large texts: the [complete works of Shakespeare](https://www.gutenberg.org/ebooks/100), [War and Peace](https://www.gutenberg.org/ebooks/2600), and [The Adventures of Sherlock Holmes](https://www.gutenberg.org/ebooks/48320), all from [Project Gutenberg](https://www.gutenberg.org/wiki/Main_Page).\n",
    "\n",
    "The Python [`collections.Counter()`](https://docs.python.org/3/library/collections.html#collections.Counter) object from the standard library does a good job of counting letters for us. If we pass a `Counter` a sequence of characters, it will count them for us:"
   ]
  },
  {
   "cell_type": "code",
   "execution_count": null,
   "metadata": {},
   "outputs": [],
   "source": [
    "import collections\n",
    "collections.Counter('this is some test text')"
   ]
  },
  {
   "cell_type": "markdown",
   "metadata": {},
   "source": [
    "If we `update` the `Counter`, it will update the counts for us:"
   ]
  },
  {
   "cell_type": "code",
   "execution_count": null,
   "metadata": {},
   "outputs": [],
   "source": [
    "counts = collections.Counter()\n",
    "counts.update('this is some text')\n",
    "counts"
   ]
  },
  {
   "cell_type": "code",
   "execution_count": null,
   "metadata": {},
   "outputs": [],
   "source": [
    "counts.update('here is some more text')\n",
    "counts"
   ]
  },
  {
   "cell_type": "markdown",
   "metadata": {},
   "source": [
    "This allows us to easily combine the counts of letters in all the texts, then write them to a file. "
   ]
  },
  {
   "cell_type": "code",
   "execution_count": null,
   "metadata": {},
   "outputs": [],
   "source": [
    "corpora = ['shakespeare.txt', 'sherlock-holmes.txt', 'war-and-peace.txt']\n",
    "counts = collections.Counter()\n",
    "\n",
    "# count all the characters\n",
    "for corpus in corpora:\n",
    "    text = open(corpus, 'r').read().lower()\n",
    "    counts.update(text)\n",
    "\n",
    "    \n",
    "# keep just the letters    \n",
    "letter_counts = {}\n",
    "for l in counts:\n",
    "    if l in string.ascii_lowercase:\n",
    "        letter_counts[l] = counts[l]\n",
    "        \n",
    "# sort the letters, most common first\n",
    "sorted_letters = sorted(letter_counts, key=counts.get, reverse=True)\n",
    "\n",
    "# write the counts to a file, in case we need them later\n",
    "with open('count_1l.txt', 'w') as f:\n",
    "    for l in sorted_letters:\n",
    "        f.write(\"{0}\\t{1}\\n\".format(l, letter_counts[l]))\n",
    "        print(\"{0}\\t{1}\".format(l, letter_counts[l]))"
   ]
  },
  {
   "cell_type": "markdown",
   "metadata": {},
   "source": [
    "For interest, how many letters were counted?"
   ]
  },
  {
   "cell_type": "code",
   "execution_count": null,
   "metadata": {},
   "outputs": [],
   "source": [
    "sum(letter_counts.values())"
   ]
  },
  {
   "cell_type": "markdown",
   "metadata": {},
   "source": [
    "At five letters per word on average, how many words is that? (Pretty printing to show the commas as separators in the number.)"
   ]
  },
  {
   "cell_type": "code",
   "execution_count": null,
   "metadata": {},
   "outputs": [],
   "source": [
    "\"{:,}\".format(sum(letter_counts.values()) / 5)"
   ]
  },
  {
   "cell_type": "markdown",
   "metadata": {},
   "source": [
    "## Using the language model\n",
    "Now we have the letter counts, we need to use them to score possible plaintexts. There are two stages here:\n",
    "1. Convert the counts into probabilities;\n",
    "2. Score a piece of text for how probable it is (by the random monkey metric)."
   ]
  },
  {
   "cell_type": "markdown",
   "metadata": {},
   "source": [
    "## Converting the counts to probabilities\n",
    "This just requires working out what proportion each letter is of the total counts. \n",
    "\n",
    "The probability of a letter occuring by chance is just the number of times that letter appears, divided by the total number of letters. \n",
    "\n",
    "Whe have the number of each letter in `letter_counts`: `letter_counts[letter]` is how often a letter appeared in the corpus. \n",
    "\n",
    "We can find the total of all the counts with `sum(letter_counts.values())`.\n",
    "\n",
    "Division in Python is done with the `/` operator, like this:"
   ]
  },
  {
   "cell_type": "code",
   "execution_count": null,
   "metadata": {},
   "outputs": [],
   "source": [
    "12 / 4"
   ]
  },
  {
   "cell_type": "code",
   "execution_count": null,
   "metadata": {},
   "outputs": [],
   "source": [
    "12 / 5"
   ]
  },
  {
   "cell_type": "markdown",
   "metadata": {},
   "source": [
    "## Your turn: find `letter_probability`s\n",
    "\n",
    "Complete the code below. If you're stuck, you can [see the solution](letter_probability-solution.ipynb)."
   ]
  },
  {
   "cell_type": "code",
   "execution_count": null,
   "metadata": {},
   "outputs": [],
   "source": [
    "letter_probability = {}\n",
    "count_sum = # Write your code here\n",
    "for letter in letter_counts:\n",
    "    letter_probability[letter] = # Write your code here\n",
    "\n",
    "letter_probability"
   ]
  },
  {
   "cell_type": "markdown",
   "metadata": {},
   "source": [
    "## Score a piece of text\n",
    "We can use these to find the probability of a sequence of letters by finding the probability of each letter, then multiplying them all together. What we end up with is the probability of this piece of text being typed out by the random money I introduced at the top of this notebook.\n",
    "\n",
    "Note that the `letter_probability` dict only holds lower-case letters, so we make sure to convert the text to lowercase before tying to score it. "
   ]
  },
  {
   "cell_type": "code",
   "execution_count": null,
   "metadata": {},
   "outputs": [],
   "source": [
    "def text_probability(text):\n",
    "    prob = 1.0\n",
    "    for letter in text.lower():\n",
    "        if letter in letter_probability:\n",
    "            prob *= letter_probability[letter]\n",
    "    return prob"
   ]
  },
  {
   "cell_type": "code",
   "execution_count": null,
   "metadata": {},
   "outputs": [],
   "source": [
    "text_probability('hello')"
   ]
  },
  {
   "cell_type": "code",
   "execution_count": null,
   "metadata": {},
   "outputs": [],
   "source": [
    "text_probability('this is a longer piece of text, like what we might find in a message')"
   ]
  },
  {
   "cell_type": "markdown",
   "metadata": {},
   "source": [
    "That's quite a small probability. To see how small, let's put it in a more human-readable format:"
   ]
  },
  {
   "cell_type": "code",
   "execution_count": null,
   "metadata": {},
   "outputs": [],
   "source": [
    "'{:0.70f}'.format(text_probability('this is a longer piece of text, like what we might find in a message'))"
   ]
  },
  {
   "cell_type": "markdown",
   "metadata": {},
   "source": [
    "The final values will be very small even longer texts. There's a danger that with a long text, we'll end up with a number that's too small to represent. \n",
    "\n",
    "We can get around this by using the \"trick\" of taking logarithms of probabilities. As numbers get smaller, their logarithms get smaller, but much less quickly. This means we can still handle the probability of long texts, while still being able to see which is the most probable. \n",
    "\n",
    "To find the logarithm of a number, we use the `math.log10()` function."
   ]
  },
  {
   "cell_type": "code",
   "execution_count": null,
   "metadata": {},
   "outputs": [],
   "source": [
    "import math\n",
    "\n",
    "math.log10(1000)"
   ]
  },
  {
   "cell_type": "code",
   "execution_count": null,
   "metadata": {},
   "outputs": [],
   "source": [
    "math.log10(1)"
   ]
  },
  {
   "cell_type": "code",
   "execution_count": null,
   "metadata": {},
   "outputs": [],
   "source": [
    "math.log10(0.1)"
   ]
  },
  {
   "cell_type": "code",
   "execution_count": null,
   "metadata": {},
   "outputs": [],
   "source": [
    "math.log10(0.005)"
   ]
  },
  {
   "cell_type": "markdown",
   "metadata": {},
   "source": [
    "When we multiply numbers, we _add_ their logarithms. Here's a multiplication:"
   ]
  },
  {
   "cell_type": "code",
   "execution_count": null,
   "metadata": {},
   "outputs": [],
   "source": [
    "0.002 * 5"
   ]
  },
  {
   "cell_type": "markdown",
   "metadata": {},
   "source": [
    "Here's the logarithm of the result."
   ]
  },
  {
   "cell_type": "code",
   "execution_count": null,
   "metadata": {},
   "outputs": [],
   "source": [
    "math.log10(0.002 * 5)"
   ]
  },
  {
   "cell_type": "markdown",
   "metadata": {},
   "source": [
    "Here are the logarithms of the two numbers."
   ]
  },
  {
   "cell_type": "code",
   "execution_count": null,
   "metadata": {},
   "outputs": [],
   "source": [
    "math.log10(0.002), math.log10(5)"
   ]
  },
  {
   "cell_type": "markdown",
   "metadata": {},
   "source": [
    "To multiply them together, we add their logarithms, and get the same answer as above."
   ]
  },
  {
   "cell_type": "code",
   "execution_count": null,
   "metadata": {},
   "outputs": [],
   "source": [
    "math.log10(0.002) + math.log10(5)"
   ]
  },
  {
   "cell_type": "markdown",
   "metadata": {},
   "source": [
    "(If you're interested, we can get the original number back from the logarithm by raising 10 to a power:)"
   ]
  },
  {
   "cell_type": "code",
   "execution_count": null,
   "metadata": {},
   "outputs": [],
   "source": [
    "10 ** -2.0"
   ]
  },
  {
   "cell_type": "markdown",
   "metadata": {},
   "source": [
    "Before, we multiplied the probabilities together to get the probability of the sentence. With logarithms, to get the logarithm of the probability, we add all the log probabilities of the letters. As we're only interested in which is the _most_ likely, we don't need to convert _from_ logarithms anywhere: the most likely plaintext is just the one with the highest probability, which is the highest log probability. "
   ]
  },
  {
   "cell_type": "markdown",
   "metadata": {},
   "source": [
    "## Your turn: `log_letter_probability`\n",
    "Knowing what you know from above, fill the `log_letter_probability` dict with the log probabilities of the letters. \n",
    "\n",
    "Follow the code for filling in `letter_probability`, but take the logarithm of the fraction of letters.\n",
    "\n",
    "If you get stuck, you can [see the solution](log_letter_probability-solution.ipynb)."
   ]
  },
  {
   "cell_type": "code",
   "execution_count": null,
   "metadata": {},
   "outputs": [],
   "source": [
    "log_letter_probability = {}\n",
    "\n",
    "# Write your code here\n",
    "\n",
    "log_letter_probability"
   ]
  },
  {
   "cell_type": "markdown",
   "metadata": {},
   "source": [
    "## Your turn: `log_text_probability()`\n",
    "Using the `log_letter_probability` dict, write the `log_text_probability()` function to give the log probability of a piece of text. \n",
    "\n",
    "You should follow the code from `text_probability()` above, but start with a `log_probability` of zero, and _add_ the log probabilities of the letters.\n",
    "\n",
    "If you get stuck, you can [see the solution](log_text_probability-solution.ipynb)."
   ]
  },
  {
   "cell_type": "code",
   "execution_count": null,
   "metadata": {},
   "outputs": [],
   "source": [
    "def log_text_probability(letters):\n",
    "    # Write your code here"
   ]
  },
  {
   "cell_type": "markdown",
   "metadata": {},
   "source": [
    "We can use that to find some log probabilities:"
   ]
  },
  {
   "cell_type": "code",
   "execution_count": null,
   "metadata": {},
   "outputs": [],
   "source": [
    "log_text_probability('hello')"
   ]
  },
  {
   "cell_type": "code",
   "execution_count": null,
   "metadata": {},
   "outputs": [],
   "source": [
    "log_text_probability('hello there')"
   ]
  },
  {
   "cell_type": "code",
   "execution_count": null,
   "metadata": {},
   "outputs": [],
   "source": [
    "log_text_probability('this is a longer piece of text, like what we might find in a message')"
   ]
  },
  {
   "cell_type": "markdown",
   "metadata": {},
   "source": [
    "Much better values!\n",
    "\n",
    "We've ended up with a simple _model_ of the English language, which we can use to judge how likely a given piece of text is actually English. "
   ]
  },
  {
   "cell_type": "markdown",
   "metadata": {},
   "source": [
    "## Breaking Caesar ciphers\n",
    "Finally, we can use `log_text_probability()` to score possible plaintexts, and hence automatically break Caesar ciphers!\n",
    "\n",
    "Back at the top of the notebook, we showed how to try all keys and generate the corresponding plaintext for each:"
   ]
  },
  {
   "cell_type": "code",
   "execution_count": null,
   "metadata": {},
   "outputs": [],
   "source": [
    "ciphertext = caesar_encipher('This is a test message.', 4)\n",
    "\n",
    "for key in range(26):\n",
    "    plaintext = caesar_decipher(ciphertext, key)\n",
    "    print(plaintext, '<=', key)"
   ]
  },
  {
   "cell_type": "markdown",
   "metadata": {},
   "source": [
    "## Your turn: show the log probability scores\n",
    "Generate the same table as above, but this time give the log probability score for each generated plaintext.\n",
    "\n",
    "If you get stuck, you can [see the solution](show-log-probs-solution.ipynb)."
   ]
  },
  {
   "cell_type": "code",
   "execution_count": null,
   "metadata": {},
   "outputs": [],
   "source": [
    "# Write your code here"
   ]
  },
  {
   "cell_type": "markdown",
   "metadata": {},
   "source": [
    "If you do it, you can see that all the possible plaintexts score -25 or lower, apart from one. And that's the correct key.\n",
    "\n",
    "The next step is to keep track of the _best_ key. \n",
    "\n",
    "We work through all 26 keys, deciphering the text with each one. For each possible plaintext, we use the `log_text_probability()` function to score how good that plaintext is. As we go through, we keep track of the best probability and the key which generated it. \n",
    "\n",
    "At the end, we return the best key and probability.\n",
    "\n",
    "We start by initialising the `best_key` and `best_prob` to extreme values which will be instantly overridden (`float('-inf')` is negative infinity, a _really_ bad score):"
   ]
  },
  {
   "cell_type": "code",
   "execution_count": null,
   "metadata": {},
   "outputs": [],
   "source": [
    "best_key = 0\n",
    "best_prob = float('-inf')"
   ]
  },
  {
   "cell_type": "markdown",
   "metadata": {},
   "source": [
    "We can use this code to update the best key and best probability:"
   ]
  },
  {
   "cell_type": "code",
   "execution_count": null,
   "metadata": {},
   "outputs": [],
   "source": [
    "# Don't run this cell: it's just a code fragment and will give an error\n",
    "if log_prob_score > best_prob:\n",
    "    best_prob = log_prob_score\n",
    "    best_key = key"
   ]
  },
  {
   "cell_type": "markdown",
   "metadata": {},
   "source": [
    "## Your turn: find the best key\n",
    "In the code you wrote above, you showed the score for each candidate plaintext. \n",
    "\n",
    "Extend that to keep track of the best score over all the keys. Copy you code below and add in the couple of fragments above for keeping track of the best key.\n",
    "\n",
    "If you get stuck, you can [see the solution](show-best-log-prob.ipynb).\n"
   ]
  },
  {
   "cell_type": "code",
   "execution_count": null,
   "metadata": {},
   "outputs": [],
   "source": [
    "# Write your code here"
   ]
  },
  {
   "cell_type": "markdown",
   "metadata": {},
   "source": [
    "## Your turn: wrap it in a function\n",
    "\n",
    "Let's make this codebreaking snippet more usable by wrapping it in a function definition. \n",
    "\n",
    "Fill in the definition of `caesar_break()` using the code you've just written.\n",
    "\n",
    "If you're stuck, you can [see the solution](caesar_break-solution.ipynb)."
   ]
  },
  {
   "cell_type": "code",
   "execution_count": null,
   "metadata": {},
   "outputs": [],
   "source": [
    "def caesar_break(message):\n",
    "    \"\"\"Breaks a Caesar cipher using frequency analysis\"\"\"\n",
    "\n",
    "    # Write your code here\n",
    "    \n",
    "    # Return the best we found\n",
    "    return best_key, best_prob"
   ]
  },
  {
   "cell_type": "markdown",
   "metadata": {},
   "source": [
    "Let's see if it works. We encipher a message, then see if `caesar_break` returns the correct key."
   ]
  },
  {
   "cell_type": "code",
   "execution_count": null,
   "metadata": {},
   "outputs": [],
   "source": [
    "key, score = caesar_break(ciphertext)\n",
    "key, score"
   ]
  },
  {
   "cell_type": "markdown",
   "metadata": {},
   "source": [
    "Success!\n",
    "\n",
    "Let's try some other messages."
   ]
  },
  {
   "cell_type": "code",
   "execution_count": null,
   "metadata": {},
   "outputs": [],
   "source": [
    "ct = caesar_encipher(\"\"\"Here's another test message to see if the caesar \n",
    "breaking code works well.\"\"\", 17)\n",
    "\n",
    "key, score = caesar_break(ct)\n",
    "key, score"
   ]
  },
  {
   "cell_type": "markdown",
   "metadata": {},
   "source": [
    "Let's try it on something larger: the ciphertext from the [National Cipher Challenge](https://www.cipherchallenge.org/) [2016 challenge 1](https://2016.cipherchallenge.org/challenges/challenge-1/)."
   ]
  },
  {
   "cell_type": "code",
   "execution_count": null,
   "metadata": {},
   "outputs": [],
   "source": [
    "c1a = open('2016-1a.ciphertext').read()\n",
    "print(c1a)"
   ]
  },
  {
   "cell_type": "code",
   "execution_count": null,
   "metadata": {},
   "outputs": [],
   "source": [
    "key, score = caesar_break(c1a)\n",
    "key, score"
   ]
  },
  {
   "cell_type": "code",
   "execution_count": null,
   "metadata": {},
   "outputs": [],
   "source": [
    "print(caesar_decipher(c1a, key))"
   ]
  },
  {
   "cell_type": "markdown",
   "metadata": {},
   "source": [
    "# Over to you\n",
    "If you (or a friend) generated some Caesar-enciphered messages before, can `caesar_break()` crack the code and recover the message?"
   ]
  },
  {
   "cell_type": "code",
   "execution_count": null,
   "metadata": {},
   "outputs": [],
   "source": []
  }
 ],
 "metadata": {
  "kernelspec": {
   "display_name": "Python 3",
   "language": "python",
   "name": "python3"
  },
  "language_info": {
   "codemirror_mode": {
    "name": "ipython",
    "version": 3
   },
   "file_extension": ".py",
   "mimetype": "text/x-python",
   "name": "python",
   "nbconvert_exporter": "python",
   "pygments_lexer": "ipython3",
   "version": "3.6.3"
  }
 },
 "nbformat": 4,
 "nbformat_minor": 2
}
