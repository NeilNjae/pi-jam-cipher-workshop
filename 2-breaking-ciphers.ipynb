{
 "cells": [
  {
   "cell_type": "markdown",
   "metadata": {},
   "source": [
    "# Breaking Caesar ciphers\n",
    "Now we can enciper and decipher with a Caesar cipher, the next step is to write a program to automatically break enciphered messages. \n",
    "\n",
    "### Want to know more?\n",
    "I've written more about [writing programs for ciphers](https://work.njae.me.uk/tag/codes-and-ciphers/) on [my blog](https://work.njae.me.uk/). You can also grab more [code from Github](https://github.com/NeilNjae/cipher-tools/). Feel free to dive in and take a look!"
   ]
  },
  {
   "cell_type": "markdown",
   "metadata": {},
   "source": [
    "# The basic idea\n",
    "The basic model is simple: we'll get the computer to try all the keys and see which is the best.\n",
    "\n",
    "\"Trying all the keys\" is simple: for a Caesar cipher, we just run through the shifts 0–25.\n",
    "\n",
    "Finding which is \"best\" is somewhat tricker. How do we know which is the best possible decryption? For complex ciphers, and long ciphertexts, we don't want to rely on a human to make the decision. "
   ]
  },
  {
   "cell_type": "markdown",
   "metadata": {},
   "source": [
    "## Recap: Caesar ciphers\n",
    "We're just repeating the Caesar cipher implmentation from the previous notebook."
   ]
  },
  {
   "cell_type": "code",
   "execution_count": 1,
   "metadata": {},
   "outputs": [],
   "source": [
    "import string"
   ]
  },
  {
   "cell_type": "code",
   "execution_count": 2,
   "metadata": {},
   "outputs": [],
   "source": [
    "def pos(letter): \n",
    "    \"\"\"Return the position of a letter in the alphabet (0-25)\"\"\"\n",
    "    if letter in string.ascii_lowercase:\n",
    "        return ord(letter) - ord('a')\n",
    "    elif letter in string.ascii_uppercase:\n",
    "        return ord(letter) - ord('A')\n",
    "    else:\n",
    "        raise ValueError('pos requires input of {} to be an ascii letter'.format(letter))"
   ]
  },
  {
   "cell_type": "code",
   "execution_count": 3,
   "metadata": {},
   "outputs": [],
   "source": [
    "def unpos(number): \n",
    "    \"\"\"Return the letter in the given position in the alphabet (mod 26)\"\"\"\n",
    "    return chr(number % 26 + ord('a'))"
   ]
  },
  {
   "cell_type": "code",
   "execution_count": 4,
   "metadata": {},
   "outputs": [],
   "source": [
    "def caesar_encipher_letter(letter, shift):\n",
    "    \"\"\"Encipher a letter, given a shift amount\"\"\"\n",
    "    if letter in string.ascii_letters:\n",
    "        cipherletter = unpos(pos(letter) + shift)\n",
    "        if letter in string.ascii_uppercase:\n",
    "            return cipherletter.upper()\n",
    "        else:\n",
    "            return cipherletter\n",
    "    else:\n",
    "        return letter      "
   ]
  },
  {
   "cell_type": "code",
   "execution_count": 5,
   "metadata": {},
   "outputs": [],
   "source": [
    "def caesar_encipher(message, shift):\n",
    "    \"\"\"Encipher a message with the Caesar cipher of given shift\"\"\"\n",
    "    enciphered = \"\"\n",
    "    for character in message:\n",
    "        enciphered += caesar_encipher_letter(character, shift)\n",
    "    return enciphered"
   ]
  },
  {
   "cell_type": "code",
   "execution_count": 6,
   "metadata": {},
   "outputs": [],
   "source": [
    "def caesar_decipher(message, shift):\n",
    "    \"\"\"Decipher a message with the Caesar cipher of given shift\"\"\"\n",
    "    return caesar_encipher(message, -shift)"
   ]
  },
  {
   "cell_type": "code",
   "execution_count": 7,
   "metadata": {},
   "outputs": [
    {
     "data": {
      "text/plain": [
       "'Xlmw mw e xiwx qiwweki.'"
      ]
     },
     "execution_count": 7,
     "metadata": {},
     "output_type": "execute_result"
    }
   ],
   "source": [
    "caesar_encipher('This is a test message.', 4)"
   ]
  },
  {
   "cell_type": "code",
   "execution_count": 8,
   "metadata": {},
   "outputs": [
    {
     "data": {
      "text/plain": [
       "'This is a test message.'"
      ]
     },
     "execution_count": 8,
     "metadata": {},
     "output_type": "execute_result"
    }
   ],
   "source": [
    "caesar_decipher('Xlmw mw e xiwx qiwweki.', 4)"
   ]
  },
  {
   "cell_type": "markdown",
   "metadata": {},
   "source": [
    "# The New Stuff\n",
    "\n",
    "## Trying all the keys\n",
    "\n",
    "Remember, our approach to automatically breaking ciphers is simple:\n",
    "\n",
    "1. Try all the keys\n",
    "2. For each key, decrypt the message and \"score\" it\n",
    "3. Pick the key with the best \"score\"\n",
    "\n",
    "Trying all the keys is easy. Let's try it for a Caesar cipher. Here's an enciphered message:"
   ]
  },
  {
   "cell_type": "code",
   "execution_count": 9,
   "metadata": {},
   "outputs": [
    {
     "data": {
      "text/plain": [
       "'Xlmw mw e xiwx qiwweki.'"
      ]
     },
     "execution_count": 9,
     "metadata": {},
     "output_type": "execute_result"
    }
   ],
   "source": [
    "ciphertext = caesar_encipher('This is a test message.', 4)\n",
    "ciphertext"
   ]
  },
  {
   "cell_type": "markdown",
   "metadata": {},
   "source": [
    "And let's try all the keys, seeing what they give."
   ]
  },
  {
   "cell_type": "code",
   "execution_count": 10,
   "metadata": {},
   "outputs": [
    {
     "name": "stdout",
     "output_type": "stream",
     "text": [
      "Xlmw mw e xiwx qiwweki. <= 0\n",
      "Wklv lv d whvw phvvdjh. <= 1\n",
      "Vjku ku c vguv oguucig. <= 2\n",
      "Uijt jt b uftu nfttbhf. <= 3\n",
      "This is a test message. <= 4\n",
      "Sghr hr z sdrs ldrrzfd. <= 5\n",
      "Rfgq gq y rcqr kcqqyec. <= 6\n",
      "Qefp fp x qbpq jbppxdb. <= 7\n",
      "Pdeo eo w paop iaoowca. <= 8\n",
      "Ocdn dn v ozno hznnvbz. <= 9\n",
      "Nbcm cm u nymn gymmuay. <= 10\n",
      "Mabl bl t mxlm fxlltzx. <= 11\n",
      "Lzak ak s lwkl ewkksyw. <= 12\n",
      "Kyzj zj r kvjk dvjjrxv. <= 13\n",
      "Jxyi yi q juij cuiiqwu. <= 14\n",
      "Iwxh xh p ithi bthhpvt. <= 15\n",
      "Hvwg wg o hsgh asggous. <= 16\n",
      "Guvf vf n grfg zrffntr. <= 17\n",
      "Ftue ue m fqef yqeemsq. <= 18\n",
      "Estd td l epde xpddlrp. <= 19\n",
      "Drsc sc k docd wocckqo. <= 20\n",
      "Cqrb rb j cnbc vnbbjpn. <= 21\n",
      "Bpqa qa i bmab umaaiom. <= 22\n",
      "Aopz pz h alza tlzzhnl. <= 23\n",
      "Znoy oy g zkyz skyygmk. <= 24\n",
      "Ymnx nx f yjxy rjxxflj. <= 25\n"
     ]
    }
   ],
   "source": [
    "for key in range(26):\n",
    "    plaintext = caesar_decipher(ciphertext, key)\n",
    "    print(plaintext, '<=', key)"
   ]
  },
  {
   "cell_type": "markdown",
   "metadata": {},
   "source": [
    "From looking at the generated plaintexts, you can probably spot that key 4 gives a sensible text and the others don't. But if you didn't know that `4` was the correct key, it could take you a few moments to find it in the mass of text. It gets harder if the text is longer, and harder still if there are more keys. We want to get a machine to recognise text that looks like English."
   ]
  },
  {
   "cell_type": "markdown",
   "metadata": {},
   "source": [
    "# A language model\n",
    "\n",
    "The idea is to have a _model_ of what English text looks like. When we're presented with a possible plaintext, we can see how well that text fits the model. The better it fits, the more like \"ideal English\" it is. When we run through all the keys, we pick the key that gives a plaintext that looks most like English.\n",
    "\n",
    "![Monkey typing](Monkey-typing.jpg) \n",
    "\n",
    "My approach takes the idea from the apocryphal story that an infinite number of moneys, with an infinite number of typewriters, will eventually create the complete works of Shakespeare. As the computer tries each key, generating a possible plaintext, it can score the possible plaintext by how likely it would be for a monkey, completely randomly, to generate that plaintext. \n",
    "\n",
    "That idea isn't that helpful when all the letters are equally likely. But if the monkey is using a keyboard where the keys are sized in proportion to how often they appear in English, we have something. The diagram below gives an idea of what such a keyboard could look like. A monkey using that keyboard, htting keys at random, will produce something like *treattlpis* more often than *nziuechjtk*.\n",
    "\n",
    "![English letters by proportion](letter-treemap.png) \n",
    "\n",
    "That allows us to score how close a piece of text is to English. If we can work out the probability htat a random monkey would produce our possible plaintext, we can choose the key which produces the most likely plaintext.\n",
    "\n",
    "(This model is also called a _bag of letters_ model, as it's the same as taking all the letters in the text and putting them in a bag, losing all idea of the order of letters. While we lose a lot of information with this, it's actually good enough for our purposes.)"
   ]
  },
  {
   "cell_type": "markdown",
   "metadata": {},
   "source": [
    "## Finding letter probabilities\n",
    "How do we find these probabilities of the letters of English? The easy answer is to simply read a lot of text, counting the letters. Let's use three large texts: the [complete works of Shakespeare](https://www.gutenberg.org/ebooks/100), [War and Peace](https://www.gutenberg.org/ebooks/2600), and [The Adventures of Sherlock Holmes](https://www.gutenberg.org/ebooks/48320), all from [Project Gutenberg](https://www.gutenberg.org/wiki/Main_Page).\n",
    "\n",
    "The Python [`collections.Counter()`](https://docs.python.org/3/library/collections.html#collections.Counter) object from the standard library does a good job of counting letters for us. If we pass a `Counter` a sequence of characters, it will count them for us:"
   ]
  },
  {
   "cell_type": "code",
   "execution_count": 11,
   "metadata": {},
   "outputs": [
    {
     "data": {
      "text/plain": [
       "Counter({'t': 5,\n",
       "         'h': 1,\n",
       "         'i': 2,\n",
       "         's': 4,\n",
       "         ' ': 4,\n",
       "         'o': 1,\n",
       "         'm': 1,\n",
       "         'e': 3,\n",
       "         'x': 1})"
      ]
     },
     "execution_count": 11,
     "metadata": {},
     "output_type": "execute_result"
    }
   ],
   "source": [
    "import collections\n",
    "collections.Counter('this is some test text')"
   ]
  },
  {
   "cell_type": "markdown",
   "metadata": {},
   "source": [
    "If we `update` the `Counter`, it will update the counts for us:"
   ]
  },
  {
   "cell_type": "code",
   "execution_count": 12,
   "metadata": {},
   "outputs": [
    {
     "data": {
      "text/plain": [
       "Counter({'t': 3,\n",
       "         'h': 1,\n",
       "         'i': 2,\n",
       "         's': 3,\n",
       "         ' ': 3,\n",
       "         'o': 1,\n",
       "         'm': 1,\n",
       "         'e': 2,\n",
       "         'x': 1})"
      ]
     },
     "execution_count": 12,
     "metadata": {},
     "output_type": "execute_result"
    }
   ],
   "source": [
    "counts = collections.Counter()\n",
    "counts.update('this is some text')\n",
    "counts"
   ]
  },
  {
   "cell_type": "code",
   "execution_count": 13,
   "metadata": {},
   "outputs": [
    {
     "data": {
      "text/plain": [
       "Counter({'t': 5,\n",
       "         'h': 2,\n",
       "         'i': 3,\n",
       "         's': 5,\n",
       "         ' ': 7,\n",
       "         'o': 3,\n",
       "         'm': 3,\n",
       "         'e': 7,\n",
       "         'x': 2,\n",
       "         'r': 2})"
      ]
     },
     "execution_count": 13,
     "metadata": {},
     "output_type": "execute_result"
    }
   ],
   "source": [
    "counts.update('here is some more text')\n",
    "counts"
   ]
  },
  {
   "cell_type": "markdown",
   "metadata": {},
   "source": [
    "This allows us to easily combine the counts of letters in all the texts, then write them to a file. "
   ]
  },
  {
   "cell_type": "code",
   "execution_count": 14,
   "metadata": {},
   "outputs": [
    {
     "name": "stdout",
     "output_type": "stream",
     "text": [
      "e\t758091\n",
      "t\t560576\n",
      "o\t504520\n",
      "a\t490124\n",
      "i\t421240\n",
      "n\t419374\n",
      "h\t416369\n",
      "s\t404473\n",
      "r\t373599\n",
      "d\t267917\n",
      "l\t259023\n",
      "u\t190269\n",
      "m\t172199\n",
      "w\t154157\n",
      "y\t143040\n",
      "c\t141094\n",
      "f\t135318\n",
      "g\t117888\n",
      "p\t100690\n",
      "b\t92919\n",
      "v\t65297\n",
      "k\t54248\n",
      "x\t7414\n",
      "j\t6679\n",
      "q\t5499\n",
      "z\t3577\n"
     ]
    }
   ],
   "source": [
    "corpora = ['shakespeare.txt', 'sherlock-holmes.txt', 'war-and-peace.txt']\n",
    "counts = collections.Counter()\n",
    "\n",
    "# count all the characters\n",
    "for corpus in corpora:\n",
    "    text = open(corpus, 'r').read().lower()\n",
    "    counts.update(text)\n",
    "\n",
    "    \n",
    "# keep just the letters    \n",
    "letter_counts = {}\n",
    "for l in counts:\n",
    "    if l in string.ascii_lowercase:\n",
    "        letter_counts[l] = counts[l]\n",
    "        \n",
    "# sort the letters, most common first\n",
    "sorted_letters = sorted(letter_counts, key=counts.get, reverse=True)\n",
    "\n",
    "# write the counts to a file, in case we need them later\n",
    "with open('count_1l.txt', 'w') as f:\n",
    "    for l in sorted_letters:\n",
    "        f.write(\"{0}\\t{1}\\n\".format(l, letter_counts[l]))\n",
    "        print(\"{0}\\t{1}\".format(l, letter_counts[l]))"
   ]
  },
  {
   "cell_type": "markdown",
   "metadata": {},
   "source": [
    "For interest, how many letters were counted?"
   ]
  },
  {
   "cell_type": "code",
   "execution_count": 15,
   "metadata": {},
   "outputs": [
    {
     "data": {
      "text/plain": [
       "6265594"
      ]
     },
     "execution_count": 15,
     "metadata": {},
     "output_type": "execute_result"
    }
   ],
   "source": [
    "sum(letter_counts.values())"
   ]
  },
  {
   "cell_type": "markdown",
   "metadata": {},
   "source": [
    "At five letters per word on average, how many words is that? (Pretty printing to show the commas as separators in the number.)"
   ]
  },
  {
   "cell_type": "code",
   "execution_count": 16,
   "metadata": {},
   "outputs": [
    {
     "data": {
      "text/plain": [
       "'1,253,118.8'"
      ]
     },
     "execution_count": 16,
     "metadata": {},
     "output_type": "execute_result"
    }
   ],
   "source": [
    "\"{:,}\".format(sum(letter_counts.values()) / 5)"
   ]
  },
  {
   "cell_type": "markdown",
   "metadata": {},
   "source": [
    "## Using the language model\n",
    "Now we have the letter counts, we need to use them to score possible plaintexts. There are two stages here:\n",
    "1. Convert the counts into probabilities;\n",
    "2. Score a piece of text for how probable it is (by the random monkey metric)."
   ]
  },
  {
   "cell_type": "markdown",
   "metadata": {},
   "source": [
    "## Converting the counts to probabilities\n",
    "This just requires working out what proportion each letter is of the total counts. \n",
    "\n",
    "The probability of a letter occuring by chance is just the number of times that letter appears, divided by the total number of letters. \n",
    "\n",
    "Whe have the number of each letter in `letter_counts`: `letter_counts[letter]` is how often a letter appeared in the corpus. \n",
    "\n",
    "We can find the total of all the counts with `sum(letter_counts.values())`.\n",
    "\n",
    "Division in Python is done with the `/` operator, like this:"
   ]
  },
  {
   "cell_type": "code",
   "execution_count": 17,
   "metadata": {},
   "outputs": [
    {
     "data": {
      "text/plain": [
       "3.0"
      ]
     },
     "execution_count": 17,
     "metadata": {},
     "output_type": "execute_result"
    }
   ],
   "source": [
    "12 / 4"
   ]
  },
  {
   "cell_type": "code",
   "execution_count": 18,
   "metadata": {},
   "outputs": [
    {
     "data": {
      "text/plain": [
       "2.4"
      ]
     },
     "execution_count": 18,
     "metadata": {},
     "output_type": "execute_result"
    }
   ],
   "source": [
    "12 / 5"
   ]
  },
  {
   "cell_type": "markdown",
   "metadata": {},
   "source": [
    "## Your turn: find `letter_probability`s\n",
    "\n",
    "Complete the code below. If you're stuck, you can [see the solution](letter_probability-solution.ipynb)."
   ]
  },
  {
   "cell_type": "code",
   "execution_count": 26,
   "metadata": {},
   "outputs": [
    {
     "ename": "SyntaxError",
     "evalue": "invalid syntax (<ipython-input-26-d820b0f07ba3>, line 2)",
     "output_type": "error",
     "traceback": [
      "\u001b[0;36m  File \u001b[0;32m\"<ipython-input-26-d820b0f07ba3>\"\u001b[0;36m, line \u001b[0;32m2\u001b[0m\n\u001b[0;31m    count_sum = # Write your code here\u001b[0m\n\u001b[0m                                      ^\u001b[0m\n\u001b[0;31mSyntaxError\u001b[0m\u001b[0;31m:\u001b[0m invalid syntax\n"
     ]
    }
   ],
   "source": [
    "letter_probability = {}\n",
    "count_sum = # Write your code here\n",
    "for letter in letter_counts:\n",
    "    letter_probability[letter] = # Write your code here\n",
    "\n",
    "letter_probability"
   ]
  },
  {
   "cell_type": "markdown",
   "metadata": {},
   "source": [
    "## Score a piece of text\n",
    "We can use these to find the probability of a sequence of letters by finding the probability of each letter, then multiplying them all together. What we end up with is the probability of this piece of text being typed out by the random money I introduced at the top of this notebook.\n",
    "\n",
    "Note that the `letter_probability` dict only holds lower-case letters, so we make sure to convert the text to lowercase before tying to score it. "
   ]
  },
  {
   "cell_type": "code",
   "execution_count": 20,
   "metadata": {},
   "outputs": [],
   "source": [
    "def text_probability(text):\n",
    "    prob = 1.0\n",
    "    for letter in text.lower():\n",
    "        if letter in letter_probability:\n",
    "            prob *= letter_probability[letter]\n",
    "    return prob"
   ]
  },
  {
   "cell_type": "code",
   "execution_count": 21,
   "metadata": {},
   "outputs": [
    {
     "data": {
      "text/plain": [
       "1.1064798867415649e-06"
      ]
     },
     "execution_count": 21,
     "metadata": {},
     "output_type": "execute_result"
    }
   ],
   "source": [
    "text_probability('hello')"
   ]
  },
  {
   "cell_type": "code",
   "execution_count": 22,
   "metadata": {},
   "outputs": [
    {
     "data": {
      "text/plain": [
       "1.3917178596173123e-68"
      ]
     },
     "execution_count": 22,
     "metadata": {},
     "output_type": "execute_result"
    }
   ],
   "source": [
    "text_probability('this is a longer piece of text, like what we might find in a message')"
   ]
  },
  {
   "cell_type": "markdown",
   "metadata": {},
   "source": [
    "That's quite a small probability. To see how small, let's put it in a more human-readable format:"
   ]
  },
  {
   "cell_type": "code",
   "execution_count": 23,
   "metadata": {},
   "outputs": [
    {
     "data": {
      "text/plain": [
       "'0.0000000000000000000000000000000000000000000000000000000000000000000139'"
      ]
     },
     "execution_count": 23,
     "metadata": {},
     "output_type": "execute_result"
    }
   ],
   "source": [
    "'{:0.70f}'.format(text_probability('this is a longer piece of text, like what we might find in a message'))"
   ]
  },
  {
   "cell_type": "markdown",
   "metadata": {},
   "source": [
    "The final values will be very small even longer texts. There's a danger that with a long text, we'll end up with a number that's too small to represent. \n",
    "\n",
    "We can get around this by using the \"trick\" of taking logarithms of probabilities. As numbers get smaller, their logarithms get smaller, but much less quickly. This means we can still handle the probability of long texts, while still being able to see which is the most probable. \n",
    "\n",
    "To find the logarithm of a number, we use the `math.log10()` function."
   ]
  },
  {
   "cell_type": "code",
   "execution_count": 24,
   "metadata": {},
   "outputs": [
    {
     "data": {
      "text/plain": [
       "3.0"
      ]
     },
     "execution_count": 24,
     "metadata": {},
     "output_type": "execute_result"
    }
   ],
   "source": [
    "import math\n",
    "\n",
    "math.log10(1000)"
   ]
  },
  {
   "cell_type": "code",
   "execution_count": 25,
   "metadata": {},
   "outputs": [
    {
     "data": {
      "text/plain": [
       "0.0"
      ]
     },
     "execution_count": 25,
     "metadata": {},
     "output_type": "execute_result"
    }
   ],
   "source": [
    "math.log10(1)"
   ]
  },
  {
   "cell_type": "code",
   "execution_count": 26,
   "metadata": {},
   "outputs": [
    {
     "data": {
      "text/plain": [
       "-1.0"
      ]
     },
     "execution_count": 26,
     "metadata": {},
     "output_type": "execute_result"
    }
   ],
   "source": [
    "math.log10(0.1)"
   ]
  },
  {
   "cell_type": "code",
   "execution_count": 27,
   "metadata": {},
   "outputs": [
    {
     "data": {
      "text/plain": [
       "-2.3010299956639813"
      ]
     },
     "execution_count": 27,
     "metadata": {},
     "output_type": "execute_result"
    }
   ],
   "source": [
    "math.log10(0.005)"
   ]
  },
  {
   "cell_type": "markdown",
   "metadata": {},
   "source": [
    "When we multiply numbers, we _add_ their logarithms. Here's a multiplication:"
   ]
  },
  {
   "cell_type": "code",
   "execution_count": 28,
   "metadata": {},
   "outputs": [
    {
     "data": {
      "text/plain": [
       "0.01"
      ]
     },
     "execution_count": 28,
     "metadata": {},
     "output_type": "execute_result"
    }
   ],
   "source": [
    "0.002 * 5"
   ]
  },
  {
   "cell_type": "markdown",
   "metadata": {},
   "source": [
    "Here's the logarithm of the result."
   ]
  },
  {
   "cell_type": "code",
   "execution_count": 29,
   "metadata": {},
   "outputs": [
    {
     "data": {
      "text/plain": [
       "-2.0"
      ]
     },
     "execution_count": 29,
     "metadata": {},
     "output_type": "execute_result"
    }
   ],
   "source": [
    "math.log10(0.002 * 5)"
   ]
  },
  {
   "cell_type": "markdown",
   "metadata": {},
   "source": [
    "Here are the logarithms of the two numbers."
   ]
  },
  {
   "cell_type": "code",
   "execution_count": 30,
   "metadata": {},
   "outputs": [
    {
     "data": {
      "text/plain": [
       "(-2.6989700043360187, 0.6989700043360189)"
      ]
     },
     "execution_count": 30,
     "metadata": {},
     "output_type": "execute_result"
    }
   ],
   "source": [
    "math.log10(0.002), math.log10(5)"
   ]
  },
  {
   "cell_type": "markdown",
   "metadata": {},
   "source": [
    "To multiply them together, we add their logarithms, and get the same answer as above."
   ]
  },
  {
   "cell_type": "code",
   "execution_count": 31,
   "metadata": {},
   "outputs": [
    {
     "data": {
      "text/plain": [
       "-2.0"
      ]
     },
     "execution_count": 31,
     "metadata": {},
     "output_type": "execute_result"
    }
   ],
   "source": [
    "math.log10(0.002) + math.log10(5)"
   ]
  },
  {
   "cell_type": "markdown",
   "metadata": {},
   "source": [
    "(If you're interested, we can get the original number back from the logarithm by raising 10 to a power:)"
   ]
  },
  {
   "cell_type": "code",
   "execution_count": 32,
   "metadata": {},
   "outputs": [
    {
     "data": {
      "text/plain": [
       "0.01"
      ]
     },
     "execution_count": 32,
     "metadata": {},
     "output_type": "execute_result"
    }
   ],
   "source": [
    "10 ** -2.0"
   ]
  },
  {
   "cell_type": "markdown",
   "metadata": {},
   "source": [
    "Before, we multiplied the probabilities together to get the probability of the sentence. With logarithms, to get the logarithm of the probability, we add all the log probabilities of the letters. As we're only interested in which is the _most_ likely, we don't need to convert _from_ logarithms anywhere: the most likely plaintext is just the one with the highest probability, which is the highest log probability. "
   ]
  },
  {
   "cell_type": "markdown",
   "metadata": {},
   "source": [
    "## Your turn: `log_letter_probability`\n",
    "Knowing what you know from above, fill the `log_letter_probability` dict with the log probabilities of the letters. \n",
    "\n",
    "Follow the code for filling in `letter_probability`, but take the logarithm of the fraction of letters.\n",
    "\n",
    "If you get stuck, you can [see the solution](log_letter_probability-solution.ipynb)."
   ]
  },
  {
   "cell_type": "code",
   "execution_count": 77,
   "metadata": {},
   "outputs": [
    {
     "data": {
      "text/plain": [
       "{}"
      ]
     },
     "execution_count": 77,
     "metadata": {},
     "output_type": "execute_result"
    }
   ],
   "source": [
    "log_letter_probability = {}\n",
    "\n",
    "# Write your code here\n",
    "\n",
    "log_letter_probability"
   ]
  },
  {
   "cell_type": "markdown",
   "metadata": {},
   "source": [
    "## Your turn: `log_text_probability()`\n",
    "Using the `log_letter_probability` dict, write the `log_text_probability()` function to give the log probability of a piece of text. \n",
    "\n",
    "You should follow the code from `text_probability()` above, but start with a `log_probability` of zero, and _add_ the log probabilities of the letters.\n",
    "\n",
    "If you get stuck, you can [see the solution](log_text_probability-solution.ipynb)."
   ]
  },
  {
   "cell_type": "code",
   "execution_count": 78,
   "metadata": {},
   "outputs": [],
   "source": [
    "def log_text_probability(letters):\n",
    "    # Write your code here"
   ]
  },
  {
   "cell_type": "markdown",
   "metadata": {},
   "source": [
    "We can use that to find some log probabilities:"
   ]
  },
  {
   "cell_type": "code",
   "execution_count": 35,
   "metadata": {},
   "outputs": [
    {
     "data": {
      "text/plain": [
       "-5.956056476139383"
      ]
     },
     "execution_count": 35,
     "metadata": {},
     "output_type": "execute_result"
    }
   ],
   "source": [
    "log_text_probability('hello')"
   ]
  },
  {
   "cell_type": "code",
   "execution_count": 36,
   "metadata": {},
   "outputs": [
    {
     "data": {
      "text/plain": [
       "-11.240906451276237"
      ]
     },
     "execution_count": 36,
     "metadata": {},
     "output_type": "execute_result"
    }
   ],
   "source": [
    "log_text_probability('hello there')"
   ]
  },
  {
   "cell_type": "code",
   "execution_count": 37,
   "metadata": {},
   "outputs": [
    {
     "data": {
      "text/plain": [
       "-67.8564487995177"
      ]
     },
     "execution_count": 37,
     "metadata": {},
     "output_type": "execute_result"
    }
   ],
   "source": [
    "log_text_probability('this is a longer piece of text, like what we might find in a message')"
   ]
  },
  {
   "cell_type": "markdown",
   "metadata": {},
   "source": [
    "Much better values!\n",
    "\n",
    "We've ended up with a simple _model_ of the English language, which we can use to judge how likely a given piece of text is actually English. "
   ]
  },
  {
   "cell_type": "markdown",
   "metadata": {},
   "source": [
    "## Breaking Caesar ciphers\n",
    "Finally, we can use `log_text_probability()` to score possible plaintexts, and hence automatically break Caesar ciphers!\n",
    "\n",
    "Back at the top of the notebook, we showed how to try all keys and generate the corresponding plaintext for each:"
   ]
  },
  {
   "cell_type": "code",
   "execution_count": 38,
   "metadata": {},
   "outputs": [
    {
     "name": "stdout",
     "output_type": "stream",
     "text": [
      "Xlmw mw e xiwx qiwweki. <= 0\n",
      "Wklv lv d whvw phvvdjh. <= 1\n",
      "Vjku ku c vguv oguucig. <= 2\n",
      "Uijt jt b uftu nfttbhf. <= 3\n",
      "This is a test message. <= 4\n",
      "Sghr hr z sdrs ldrrzfd. <= 5\n",
      "Rfgq gq y rcqr kcqqyec. <= 6\n",
      "Qefp fp x qbpq jbppxdb. <= 7\n",
      "Pdeo eo w paop iaoowca. <= 8\n",
      "Ocdn dn v ozno hznnvbz. <= 9\n",
      "Nbcm cm u nymn gymmuay. <= 10\n",
      "Mabl bl t mxlm fxlltzx. <= 11\n",
      "Lzak ak s lwkl ewkksyw. <= 12\n",
      "Kyzj zj r kvjk dvjjrxv. <= 13\n",
      "Jxyi yi q juij cuiiqwu. <= 14\n",
      "Iwxh xh p ithi bthhpvt. <= 15\n",
      "Hvwg wg o hsgh asggous. <= 16\n",
      "Guvf vf n grfg zrffntr. <= 17\n",
      "Ftue ue m fqef yqeemsq. <= 18\n",
      "Estd td l epde xpddlrp. <= 19\n",
      "Drsc sc k docd wocckqo. <= 20\n",
      "Cqrb rb j cnbc vnbbjpn. <= 21\n",
      "Bpqa qa i bmab umaaiom. <= 22\n",
      "Aopz pz h alza tlzzhnl. <= 23\n",
      "Znoy oy g zkyz skyygmk. <= 24\n",
      "Ymnx nx f yjxy rjxxflj. <= 25\n"
     ]
    }
   ],
   "source": [
    "ciphertext = caesar_encipher('This is a test message.', 4)\n",
    "\n",
    "for key in range(26):\n",
    "    plaintext = caesar_decipher(ciphertext, key)\n",
    "    print(plaintext, '<=', key)"
   ]
  },
  {
   "cell_type": "markdown",
   "metadata": {},
   "source": [
    "## Your turn: show the log probability scores\n",
    "Generate the same table as above, but this time give the log probability score for each generated plaintext.\n",
    "\n",
    "If you get stuck, you can [see the solution](show-log-probs-solution.ipynb)."
   ]
  },
  {
   "cell_type": "code",
   "execution_count": 66,
   "metadata": {},
   "outputs": [],
   "source": [
    "# Write your code here"
   ]
  },
  {
   "cell_type": "markdown",
   "metadata": {},
   "source": [
    "If you do it, you can see that all the possible plaintexts score -25 or lower, apart from one. And that's the correct key.\n",
    "\n",
    "The next step is to keep track of the _best_ key. \n",
    "\n",
    "We work through all 26 keys, deciphering the text with each one. For each possible plaintext, we use the `log_text_probability()` function to score how good that plaintext is. As we go through, we keep track of the best probability and the key which generated it. \n",
    "\n",
    "At the end, we return the best key and probability.\n",
    "\n",
    "We start by initialising the `best_key` and `best_prob` to extreme values which will be instantly overridden (`float('-inf')` is negative infinity, a _really_ bad score):"
   ]
  },
  {
   "cell_type": "code",
   "execution_count": 68,
   "metadata": {},
   "outputs": [],
   "source": [
    "best_key = 0\n",
    "best_prob = float('-inf')"
   ]
  },
  {
   "cell_type": "markdown",
   "metadata": {},
   "source": [
    "We can use this code to update the best key and best probability:"
   ]
  },
  {
   "cell_type": "code",
   "execution_count": null,
   "metadata": {},
   "outputs": [],
   "source": [
    "# Don't run this cell: it's just a code fragment and will give an error\n",
    "if log_prob_score > best_prob:\n",
    "    best_prob = log_prob_score\n",
    "    best_key = key"
   ]
  },
  {
   "cell_type": "markdown",
   "metadata": {},
   "source": [
    "## Your turn: find the best key\n",
    "In the code you wrote above, you showed the score for each candidate plaintext. \n",
    "\n",
    "Extend that to keep track of the best score over all the keys. Copy you code below and add in the couple of fragments above for keeping track of the best key.\n",
    "\n",
    "If you get stuck, you can [see the solution](show-best-log-prob.ipynb).\n"
   ]
  },
  {
   "cell_type": "code",
   "execution_count": null,
   "metadata": {},
   "outputs": [],
   "source": [
    "# Write your code here"
   ]
  },
  {
   "cell_type": "markdown",
   "metadata": {},
   "source": [
    "## Your turn: wrap it in a function\n",
    "\n",
    "Let's make this codebreaking snippet more usable by wrapping it in a function definition. \n",
    "\n",
    "Fill in the definition of `caesar_break()` using the code you've just written.\n",
    "\n",
    "If you're stuck, you can [see the solution](caesar_break-solution.ipynb)."
   ]
  },
  {
   "cell_type": "code",
   "execution_count": 70,
   "metadata": {},
   "outputs": [],
   "source": [
    "def caesar_break(message):\n",
    "    \"\"\"Breaks a Caesar cipher using frequency analysis\"\"\"\n",
    "\n",
    "    # Write your code here\n",
    "    \n",
    "    # Return the best we found\n",
    "    return best_key, best_prob"
   ]
  },
  {
   "cell_type": "markdown",
   "metadata": {},
   "source": [
    "Let's see if it works. We encipher a message, then see if `caesar_break` returns the correct key."
   ]
  },
  {
   "cell_type": "code",
   "execution_count": 43,
   "metadata": {},
   "outputs": [
    {
     "data": {
      "text/plain": [
       "(4, -20.86915553487099)"
      ]
     },
     "execution_count": 43,
     "metadata": {},
     "output_type": "execute_result"
    }
   ],
   "source": [
    "key, score = caesar_break(ciphertext)\n",
    "key, score"
   ]
  },
  {
   "cell_type": "markdown",
   "metadata": {},
   "source": [
    "Success!\n",
    "\n",
    "Let's try some other messages."
   ]
  },
  {
   "cell_type": "code",
   "execution_count": 44,
   "metadata": {},
   "outputs": [
    {
     "data": {
      "text/plain": [
       "(17, -73.03537110834638)"
      ]
     },
     "execution_count": 44,
     "metadata": {},
     "output_type": "execute_result"
    }
   ],
   "source": [
    "ct = caesar_encipher(\"\"\"Here's another test message to see if the caesar \n",
    "breaking code works well.\"\"\", 17)\n",
    "\n",
    "key, score = caesar_break(ct)\n",
    "key, score"
   ]
  },
  {
   "cell_type": "markdown",
   "metadata": {},
   "source": [
    "Let's try it on something larger: the ciphertext from the [National Cipher Challenge](https://www.cipherchallenge.org/) [2016 challenge 1](https://2016.cipherchallenge.org/challenges/challenge-1/)."
   ]
  },
  {
   "cell_type": "code",
   "execution_count": 45,
   "metadata": {},
   "outputs": [
    {
     "name": "stdout",
     "output_type": "stream",
     "text": [
      "PIZZG,\n",
      "Q PIDM AKIVVML BPM MVKZGXBML VWBM BPM XWTQKM NWCVL WV RIUMTQI'A LMAS IVL IBBIKPML QB NWZ GWC BW TWWS IB. BPM XWTQKM LMKZGXBML QB NWZ BPMUAMTDMA (QB QA DMZG ABZIQOPBNWZEIZL WVKM GWC ZMITQAM BPIB QB PIA JMMV EZQBBMV JIKSEIZLA - QB RCAB CAMA I KIMAIZ APQNB KQXPMZ). BPM WNNQKMZ QV KPIZOM WN BPM QVDMABQOIBQWV UILM QB KTMIZ BW UM BPIB PM BPQVSA BPQA XZWDMA RIUMTQI'A LMIBP QA \"RCAB\" I XMZAWVIT BZIOMLG. KIZMTMAA CAM WN BPM EWZL \"RCAB\" MDMV QN PM QA ZQOPB, JCB Q LWV'B BPQVS PM QA. Q PIDM AXWSMV BW PMZ KWTTMIOCMA, IVL RIUMTQI LWMAV'B ABZQSM UM IA I RCUXMZ. APM EIA XZMBBG LZQDMV IVL PMZ EWZS EIA OWQVO MFBZMUMTG EMTT. IXXIZMVBTG APM EIA CVPIXXG IJWCB PMZ JWGNZQMVL TMIDQVO, JCB I YCQKS AKIV WN PMZ AMIZKP PQABWZG ACOOMABA APM EIA XZMBBG IKBQDM QV BZGQVO BW BZIKS PQU LWEV. BPM XWTQKM BPQVS BPIB APWEA PWE LMAXMZIBM APM EIA. Q BPQVS QB APWEA BPIB APM EIAV'B BPM AWZB BW OQDM CX MIAQTG.\n",
      "WV WVM BPQVO Q LW IOZMM EQBP BPM XWTQKM, QB LWMAV'B AMMU DMZG TQSMTG BPIB I XPGAQKQAB EWZSQVO WV OZIDQBG EIDMA QA KICOPB CX QV IVGBPQVO BWW ACAXQKQWCA. PMZ IZMI QA EMTT NCVLML IVL AQVKM BPM LQAKWDMZG WN OZIDQBG EIDMA I NME UWVBPA IOW QB QA QV BPM AXWBTQOPB. PMZ PMIL WN LMXIZBUMVB AIGA RIUMTQI EIA LMABQVML NWZ I OWWL KIZMMZ, IVL Q KIV'B AMM IVGBPQVO QV PMZ EWZS BPIB EWCTL JM WN QVBMZMAB BW LIZSVMB WZ OWDMZVUMVB IKBWZA.\n",
      "BW JM PWVMAB Q IU CVACZM QN Q IU KPIAQVO APILWEA PMZM, JCB BPMV APILWE KPIAQVO QA WVM WN GWCZ AXMKQITQBQMA AW Q EWCTL JM ZMITTG OZIBMNCT QN GWC KWCTL BISM I TWWS IVL TMB UM SVWE QN GWC BPQVS Q IU EIABQVO GWCZ BQUM.\n",
      "\n",
      "BPIVSA,\n",
      "\n",
      "KPIZTQM\n",
      "\n"
     ]
    }
   ],
   "source": [
    "c1a = open('2016-1a.ciphertext').read()\n",
    "print(c1a)"
   ]
  },
  {
   "cell_type": "code",
   "execution_count": 46,
   "metadata": {},
   "outputs": [
    {
     "data": {
      "text/plain": [
       "(8, -1547.4874599084396)"
      ]
     },
     "execution_count": 46,
     "metadata": {},
     "output_type": "execute_result"
    }
   ],
   "source": [
    "key, score = caesar_break(c1a)\n",
    "key, score"
   ]
  },
  {
   "cell_type": "code",
   "execution_count": 47,
   "metadata": {},
   "outputs": [
    {
     "name": "stdout",
     "output_type": "stream",
     "text": [
      "HARRY,\n",
      "I HAVE SCANNED THE ENCRYPTED NOTE THE POLICE FOUND ON JAMELIA'S DESK AND ATTACHED IT FOR YOU TO LOOK AT. THE POLICE DECRYPTED IT FOR THEMSELVES (IT IS VERY STRAIGHTFORWARD ONCE YOU REALISE THAT IT HAS BEEN WRITTEN BACKWARDS - IT JUST USES A CAESAR SHIFT CIPHER). THE OFFICER IN CHARGE OF THE INVESTIGATION MADE IT CLEAR TO ME THAT HE THINKS THIS PROVES JAMELIA'S DEATH IS \"JUST\" A PERSONAL TRAGEDY. CARELESS USE OF THE WORD \"JUST\" EVEN IF HE IS RIGHT, BUT I DON'T THINK HE IS. I HAVE SPOKEN TO HER COLLEAGUES, AND JAMELIA DOESN'T STRIKE ME AS A JUMPER. SHE WAS PRETTY DRIVEN AND HER WORK WAS GOING EXTREMELY WELL. APPARENTLY SHE WAS UNHAPPY ABOUT HER BOYFRIEND LEAVING, BUT A QUICK SCAN OF HER SEARCH HISTORY SUGGESTS SHE WAS PRETTY ACTIVE IN TRYING TO TRACK HIM DOWN. THE POLICE THINK THAT SHOWS HOW DESPERATE SHE WAS. I THINK IT SHOWS THAT SHE WASN'T THE SORT TO GIVE UP EASILY.\n",
      "ON ONE THING I DO AGREE WITH THE POLICE, IT DOESN'T SEEM VERY LIKELY THAT A PHYSICIST WORKING ON GRAVITY WAVES IS CAUGHT UP IN ANYTHING TOO SUSPICIOUS. HER AREA IS WELL FUNDED AND SINCE THE DISCOVERY OF GRAVITY WAVES A FEW MONTHS AGO IT IS IN THE SPOTLIGHT. HER HEAD OF DEPARTMENT SAYS JAMELIA WAS DESTINED FOR A GOOD CAREER, AND I CAN'T SEE ANYTHING IN HER WORK THAT WOULD BE OF INTEREST TO DARKNET OR GOVERNMENT ACTORS.\n",
      "TO BE HONEST I AM UNSURE IF I AM CHASING SHADOWS HERE, BUT THEN SHADOW CHASING IS ONE OF YOUR SPECIALITIES SO I WOULD BE REALLY GRATEFUL IF YOU COULD TAKE A LOOK AND LET ME KNOW IF YOU THINK I AM WASTING YOUR TIME.\n",
      "\n",
      "THANKS,\n",
      "\n",
      "CHARLIE\n",
      "\n"
     ]
    }
   ],
   "source": [
    "print(caesar_decipher(c1a, key))"
   ]
  },
  {
   "cell_type": "markdown",
   "metadata": {},
   "source": [
    "# Over to you\n",
    "If you (or a friend) generated some Caesar-enciphered messages before, can `caesar_break()` crack the code and recover the message?"
   ]
  },
  {
   "cell_type": "code",
   "execution_count": null,
   "metadata": {},
   "outputs": [],
   "source": []
  }
 ],
 "metadata": {
  "kernelspec": {
   "display_name": "Python 3",
   "language": "python",
   "name": "python3"
  },
  "language_info": {
   "codemirror_mode": {
    "name": "ipython",
    "version": 3
   },
   "file_extension": ".py",
   "mimetype": "text/x-python",
   "name": "python",
   "nbconvert_exporter": "python",
   "pygments_lexer": "ipython3",
   "version": "3.6.3"
  }
 },
 "nbformat": 4,
 "nbformat_minor": 2
}
