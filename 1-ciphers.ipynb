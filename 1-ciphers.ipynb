{
 "cells": [
  {
   "cell_type": "markdown",
   "metadata": {},
   "source": [
    "# Caesar ciphers\n",
    "In this workshop, you'll write simple Python programs to encipher and decipher messages using the Caesar cipher. You'll also write a simple program to automatically break messages encrypted with a Caesar cipher."
   ]
  },
  {
   "cell_type": "markdown",
   "metadata": {},
   "source": [
    "## Using Jupyter Lab\n",
    "This notebook is a series of cells. Some cells, like this one, contain text and pictures. Some cells contain code: they have a pair of square brackets to the left, like the `import string` cell just below. Some code cells are blank, for you to put your own bits of code in.\n",
    "\n",
    "To _run_ a code cell, make sure the cell is selected (shown by a blue bar on the left) and press the 'play' triangle button on the toolbar above, or press Shift+Return. Jupyter will then run the code in that cell.\n",
    "\n",
    "## Python pitfalls\n",
    "Python can be very particular about some things. If some code you write doesn't work, check these things first.\n",
    "\n",
    "* **Upper- and lower-case**. Python is case-sensitive, so the variables `letter`, `Letter`, and `LETTER` are all different. \n",
    "* **Brackets**. Make sure every open bracket has a matching close bracket. Jupyter's pretty good at inserting the close bracket automatically, so keep your eyes up while typing. And round brackets `()`, square brackets `[]`, and curly brackets `{}`, are all different, so don't mix them up.\n",
    "* **Colons**. Some statements, like `for` and `if` have lines that end with colons. It's really easy to miss them out.\n",
    "* **Layout**. Python really cares about layout. It shows control structure by intending code. Make sure line starts are vertically aligned.\n",
    "\n",
    "These last two mean that your code should look something like this:\n",
    "\n",
    "```python\n",
    "def my_function():\n",
    "    if some_condition:\n",
    "        thing_inside_if()\n",
    "        do_something()\n",
    "    else:\n",
    "        something_else()\n",
    "    result = outside_the_if()\n",
    "    another_thing()\n",
    "    return result\n",
    "\n",
    "my_answer = my_function()\n",
    "my_answer        \n",
    "```\n",
    "\n",
    "Note the colons at the ends of the lines, the matching brackets, and how everything lines up in columns."
   ]
  },
  {
   "cell_type": "markdown",
   "metadata": {},
   "source": [
    "We'll be using the [`string` module](https://docs.python.org/3/library/string.html) from Python's standard library. That module defines some useful constants, such as `string.ascii_letters`, `string.ascii_lowercase` and `string.ascii_uppercase`.\n",
    "\n",
    "Let's import it, so it's available for use."
   ]
  },
  {
   "cell_type": "code",
   "execution_count": 1,
   "metadata": {},
   "outputs": [],
   "source": [
    "import string"
   ]
  },
  {
   "cell_type": "markdown",
   "metadata": {},
   "source": [
    "## What is a [Caesar cipher](https://en.wikipedia.org/wiki/Caesar_cipher)?\n",
    "\n",
    "![360px-Cipher_device](360px-Cipher_device.jpg)\n",
    "\n",
    "The [Caesar cipher](https://en.wikipedia.org/wiki/Caesar_cipher) is a simple cipher where each plaintext letter is shifted some positions along the alphabet to give the ciphertext letter. It can be used with two concentric wheel, like in the photo. You align the inner wheel with the appropriate part of the outer wheel. You can then find the plaintext letter in the inner wheel and the ciphertext letter is the corresponding one in the outer wheel.\n",
    "\n",
    "Encryption happens letter by letter. Non-letter characters generally stay the same. \n",
    "\n",
    "Decryption works the other way, just in reverse. To find the plaintext letter, reverse the original shift from the ciphertext letter. \n",
    "\n",
    "For example, a shift of four would make the following conversions:\n",
    "\n",
    "| Plaintext | A | B | C | D | E | F | G | H | I | J | K | L | M | N | O | P | Q | R | S | T | U | V | W | X | Y | Z |\n",
    "|---|---|---|---|---|---|---|---|---|---|---|---|---|---|---|---|---|---|---|---|---|---|---|---|---|---|---|\n",
    "| Ciphertext | E | F | G | H | I | J | K | L | M | N | O | P | Q | R | S | T | U | V | W | X | Y | Z | A | B | C | D |\n",
    "\n",
    "The word `test` would be enciphered as `xiwx`, and `lippk` would be deciphered to `hello`."
   ]
  },
  {
   "cell_type": "markdown",
   "metadata": {},
   "source": [
    "## Implementing the Caesar cipher\n",
    "\n",
    "How should we go about writing a program to do this? \n",
    "\n",
    "As each letter is enciphered independently, we can do a very simple function to encipher a message:\n",
    "\n",
    "```\n",
    "to ceasar-encipher (message, shift):\n",
    "    for each character in message:\n",
    "        caesar-encipher-letter (character, shift)\n",
    "```\n",
    "\n",
    "Similarly, we can exploit that the deciphering is just enciphering with a negative shift, and write a very simple function to decipher a message:\n",
    "\n",
    "```\n",
    "to caesar-decipher (message, shift):\n",
    "    caesar-encipher (message, -shift)\n",
    "```\n",
    "\n",
    "How do we encipher a character? We need to be a bit *defensive* here, and account for the fact that we may be passed non-letters. We also have to think about how we want to handle upper- and lower-case letters. Should non-letters be removed from the result, kept unchanged, cause an error, or something else? Should all letters be converted to upper-case, or all converted to lowercase? \n",
    "\n",
    "I'll be conservative here, and say that non-letters are retained unchanged, and the case of letters should be retained. \n",
    "\n",
    "This means I can write `caesar-encipher-letter` as:\n",
    "\n",
    "```\n",
    "to caesar-encipher-letter(character, shift):\n",
    "    if character is a letter:\n",
    "        cipherletter = letter + shift\n",
    "        if character is uppercase:\n",
    "            return uppercase(cipherletter)\n",
    "        else:\n",
    "            return cipherletter\n",
    "    else:\n",
    "        return character\n",
    "```\n",
    "\n",
    "The only complication is the `letter + shift` bit: most programming languages will reject this statement as characters and numbers can't be added together.\n",
    "\n",
    "The `ord()` function converts a character into a number, based on the ASCII code. The `chr()` function converts a number back into a character. Let's try them out."
   ]
  },
  {
   "cell_type": "code",
   "execution_count": 2,
   "metadata": {},
   "outputs": [
    {
     "data": {
      "text/plain": [
       "97"
      ]
     },
     "execution_count": 2,
     "metadata": {},
     "output_type": "execute_result"
    }
   ],
   "source": [
    "ord('a')"
   ]
  },
  {
   "cell_type": "code",
   "execution_count": 3,
   "metadata": {},
   "outputs": [
    {
     "data": {
      "text/plain": [
       "100"
      ]
     },
     "execution_count": 3,
     "metadata": {},
     "output_type": "execute_result"
    }
   ],
   "source": [
    "ord('d')"
   ]
  },
  {
   "cell_type": "code",
   "execution_count": 4,
   "metadata": {},
   "outputs": [
    {
     "data": {
      "text/plain": [
       "122"
      ]
     },
     "execution_count": 4,
     "metadata": {},
     "output_type": "execute_result"
    }
   ],
   "source": [
    "ord('z')"
   ]
  },
  {
   "cell_type": "code",
   "execution_count": 5,
   "metadata": {},
   "outputs": [
    {
     "data": {
      "text/plain": [
       "'a'"
      ]
     },
     "execution_count": 5,
     "metadata": {},
     "output_type": "execute_result"
    }
   ],
   "source": [
    "chr(97)"
   ]
  },
  {
   "cell_type": "code",
   "execution_count": 6,
   "metadata": {},
   "outputs": [
    {
     "data": {
      "text/plain": [
       "'x'"
      ]
     },
     "execution_count": 6,
     "metadata": {},
     "output_type": "execute_result"
    }
   ],
   "source": [
    "chr(120)"
   ]
  },
  {
   "cell_type": "markdown",
   "metadata": {},
   "source": [
    "But having numbers in the range 97–122 isn't very conventient. We can move the numbers to a more sensible range of 0–25 if we subtract the code of 'a'. like this:"
   ]
  },
  {
   "cell_type": "code",
   "execution_count": 7,
   "metadata": {},
   "outputs": [
    {
     "data": {
      "text/plain": [
       "0"
      ]
     },
     "execution_count": 7,
     "metadata": {},
     "output_type": "execute_result"
    }
   ],
   "source": [
    "ord('a') - ord('a')"
   ]
  },
  {
   "cell_type": "code",
   "execution_count": 8,
   "metadata": {},
   "outputs": [
    {
     "data": {
      "text/plain": [
       "8"
      ]
     },
     "execution_count": 8,
     "metadata": {},
     "output_type": "execute_result"
    }
   ],
   "source": [
    "# Teacher: Johnny, give me a sentence starting with 'I'.\n",
    "# Johhny: \"I is...\"\n",
    "# Teacher: No Johnny. Sentences start with \"I\" should be \"I am\".\n",
    "# Johnny: OK. \"I am the ninth letter of the alphabet\".\n",
    "#\n",
    "# But as we're counting from zero, 'i' should convert to 8.\n",
    "ord('i') - ord('a')"
   ]
  },
  {
   "cell_type": "code",
   "execution_count": 9,
   "metadata": {},
   "outputs": [
    {
     "data": {
      "text/plain": [
       "25"
      ]
     },
     "execution_count": 9,
     "metadata": {},
     "output_type": "execute_result"
    }
   ],
   "source": [
    "ord('z') - ord('a')"
   ]
  },
  {
   "cell_type": "code",
   "execution_count": 10,
   "metadata": {},
   "outputs": [
    {
     "data": {
      "text/plain": [
       "'y'"
      ]
     },
     "execution_count": 10,
     "metadata": {},
     "output_type": "execute_result"
    }
   ],
   "source": [
    "# If 'z' is 25, 24 should be 'y'\n",
    "chr(24 + ord('a'))"
   ]
  },
  {
   "cell_type": "markdown",
   "metadata": {},
   "source": [
    "As we'll be doing a lot of this sort of thing in future, let's define a couple of utility functions which convert letters to their positions in the alphabet, and back again. Because we'll be using these functions a lot, I give them deliberately short names. `pos` finds the position of a letter in the alphabet, ignoring case, and `raise`ing an error if it's given something other than a letter. \n",
    "\n",
    "Let's start with `pos()`, which converts a letter to a number."
   ]
  },
  {
   "cell_type": "code",
   "execution_count": 11,
   "metadata": {},
   "outputs": [],
   "source": [
    "def pos(letter):\n",
    "    return ord(letter) - ord('a')"
   ]
  },
  {
   "cell_type": "markdown",
   "metadata": {},
   "source": [
    "And let's try it."
   ]
  },
  {
   "cell_type": "code",
   "execution_count": 12,
   "metadata": {},
   "outputs": [
    {
     "data": {
      "text/plain": [
       "0"
      ]
     },
     "execution_count": 12,
     "metadata": {},
     "output_type": "execute_result"
    }
   ],
   "source": [
    "pos('a')"
   ]
  },
  {
   "cell_type": "code",
   "execution_count": 13,
   "metadata": {},
   "outputs": [
    {
     "data": {
      "text/plain": [
       "12"
      ]
     },
     "execution_count": 13,
     "metadata": {},
     "output_type": "execute_result"
    }
   ],
   "source": [
    "pos('m')"
   ]
  },
  {
   "cell_type": "code",
   "execution_count": 14,
   "metadata": {},
   "outputs": [
    {
     "data": {
      "text/plain": [
       "25"
      ]
     },
     "execution_count": 14,
     "metadata": {},
     "output_type": "execute_result"
    }
   ],
   "source": [
    "pos('z')"
   ]
  },
  {
   "cell_type": "markdown",
   "metadata": {},
   "source": [
    "Try a few of your own in the cells below."
   ]
  },
  {
   "cell_type": "code",
   "execution_count": null,
   "metadata": {},
   "outputs": [],
   "source": []
  },
  {
   "cell_type": "code",
   "execution_count": null,
   "metadata": {},
   "outputs": [],
   "source": []
  },
  {
   "cell_type": "code",
   "execution_count": null,
   "metadata": {},
   "outputs": [],
   "source": []
  },
  {
   "cell_type": "markdown",
   "metadata": {},
   "source": [
    "That all seems to work. What about upper case letters?"
   ]
  },
  {
   "cell_type": "code",
   "execution_count": 15,
   "metadata": {},
   "outputs": [
    {
     "data": {
      "text/plain": [
       "-31"
      ]
     },
     "execution_count": 15,
     "metadata": {},
     "output_type": "execute_result"
    }
   ],
   "source": [
    "pos('B')"
   ]
  },
  {
   "cell_type": "markdown",
   "metadata": {},
   "source": [
    "That's wrong. Let's fix it.\n",
    "\n",
    "If we do the calculation differently, we get the right answer:"
   ]
  },
  {
   "cell_type": "code",
   "execution_count": 16,
   "metadata": {},
   "outputs": [
    {
     "data": {
      "text/plain": [
       "1"
      ]
     },
     "execution_count": 16,
     "metadata": {},
     "output_type": "execute_result"
    }
   ],
   "source": [
    "ord('B') - ord('A')"
   ]
  },
  {
   "cell_type": "markdown",
   "metadata": {},
   "source": [
    "But how do we detect whether to subtract `ord('a')` or `ord('A')`?\n",
    "\n",
    "Here's how to detect if a letter is upper- or lower-case."
   ]
  },
  {
   "cell_type": "code",
   "execution_count": 17,
   "metadata": {},
   "outputs": [],
   "source": [
    "def show_case(letter):\n",
    "    if letter in string.ascii_lowercase:\n",
    "        return 'lowercase'\n",
    "    elif letter in string.ascii_uppercase:\n",
    "        return 'uppercase'\n",
    "    else:\n",
    "        return 'not a letter'"
   ]
  },
  {
   "cell_type": "code",
   "execution_count": 18,
   "metadata": {},
   "outputs": [
    {
     "data": {
      "text/plain": [
       "'lowercase'"
      ]
     },
     "execution_count": 18,
     "metadata": {},
     "output_type": "execute_result"
    }
   ],
   "source": [
    "show_case('a')"
   ]
  },
  {
   "cell_type": "code",
   "execution_count": 19,
   "metadata": {},
   "outputs": [
    {
     "data": {
      "text/plain": [
       "'uppercase'"
      ]
     },
     "execution_count": 19,
     "metadata": {},
     "output_type": "execute_result"
    }
   ],
   "source": [
    "show_case('A')"
   ]
  },
  {
   "cell_type": "code",
   "execution_count": 20,
   "metadata": {},
   "outputs": [
    {
     "data": {
      "text/plain": [
       "'not a letter'"
      ]
     },
     "execution_count": 20,
     "metadata": {},
     "output_type": "execute_result"
    }
   ],
   "source": [
    "show_case('!')"
   ]
  },
  {
   "cell_type": "markdown",
   "metadata": {},
   "source": [
    "## Your turn: writing `pos()`\n",
    "Use the logic in `show_case()` to rewrite `pos()`. Your rewrite should detect if the letter is upper- or lower-case and return the right number. If it's not a letter, use the statement \n",
    "```python\n",
    "raise ValueError('pos requires input of {} to be an ascii letter'.format(letter))\n",
    "```\n",
    "\n",
    "If you're stuck, you can [see the solution](pos-solution.ipynb)."
   ]
  },
  {
   "cell_type": "code",
   "execution_count": 21,
   "metadata": {},
   "outputs": [],
   "source": [
    "# your pos here"
   ]
  },
  {
   "cell_type": "markdown",
   "metadata": {},
   "source": [
    "## Testing `pos()`\n",
    "\n",
    "Does your function work? Try some examples. Here are a few, but try some more:\n",
    "\n",
    "(Note that Python uses `==` to test if things are equal; `=` is used for variable assignment.)"
   ]
  },
  {
   "cell_type": "code",
   "execution_count": 23,
   "metadata": {},
   "outputs": [
    {
     "data": {
      "text/plain": [
       "True"
      ]
     },
     "execution_count": 23,
     "metadata": {},
     "output_type": "execute_result"
    }
   ],
   "source": [
    "pos('a') == 0"
   ]
  },
  {
   "cell_type": "code",
   "execution_count": 24,
   "metadata": {},
   "outputs": [
    {
     "data": {
      "text/plain": [
       "True"
      ]
     },
     "execution_count": 24,
     "metadata": {},
     "output_type": "execute_result"
    }
   ],
   "source": [
    "pos('z') == 25"
   ]
  },
  {
   "cell_type": "code",
   "execution_count": 25,
   "metadata": {},
   "outputs": [
    {
     "data": {
      "text/plain": [
       "True"
      ]
     },
     "execution_count": 25,
     "metadata": {},
     "output_type": "execute_result"
    }
   ],
   "source": [
    "pos('m') == 12"
   ]
  },
  {
   "cell_type": "code",
   "execution_count": null,
   "metadata": {},
   "outputs": [],
   "source": []
  },
  {
   "cell_type": "code",
   "execution_count": null,
   "metadata": {},
   "outputs": [],
   "source": []
  },
  {
   "cell_type": "markdown",
   "metadata": {},
   "source": [
    "## Converting back\n",
    "\n",
    "`unpos()` does the reverse, convering a number into a (lowercase) letter. \n",
    "\n",
    "But sometimes, with a Caesar cipher, the shifted \"letter\" will be outside the range of the alphabet. For instance, if we encipher the word \"yes\" with a shift of 9, we get this:\n",
    "\n",
    "| Letter | Number | Shifted number |\n",
    "|:------:|:------:|:--------------:|\n",
    "| y      | 24     | 33             | \n",
    "| e      |  4     | 13             |\n",
    "| s      | 18     | 27             |\n",
    "\n",
    "But 33 and 27 aren't in the range we want (0–25, remember). What we _want_ is this:\n",
    "\n",
    "| Letter | Number | Shifted number | Converted number | Cipher letter |\n",
    "|:------:|:------:|:--------------:|:----------------:|:-------------:|\n",
    "| y      | 24     | 33             | 7                | h             |\n",
    "| e      |  4     | 13             | 13               | n             |\n",
    "| s      | 18     | 27             | 1                | b             |\n",
    "\n",
    "The modulus operator, `%`, does that conversion. It find the remainder after a division. For instance, trims the number into that range. \n",
    "\n",
    "For instance, taking a number modulus 10 gives us just the \"units\" part of the number:"
   ]
  },
  {
   "cell_type": "code",
   "execution_count": 26,
   "metadata": {},
   "outputs": [
    {
     "data": {
      "text/plain": [
       "4"
      ]
     },
     "execution_count": 26,
     "metadata": {},
     "output_type": "execute_result"
    }
   ],
   "source": [
    "154 % 10"
   ]
  },
  {
   "cell_type": "markdown",
   "metadata": {},
   "source": [
    "For our purposes, taking the number modulus 26 does the conversion for us. Try it out by seeing if the \"shifted number\"s above, taken modulus 26, give the \"converted number\" we want."
   ]
  },
  {
   "cell_type": "code",
   "execution_count": 27,
   "metadata": {},
   "outputs": [
    {
     "data": {
      "text/plain": [
       "7"
      ]
     },
     "execution_count": 27,
     "metadata": {},
     "output_type": "execute_result"
    }
   ],
   "source": [
    "33 % 26"
   ]
  },
  {
   "cell_type": "markdown",
   "metadata": {},
   "source": [
    "Numbers inside the range we want are unaffected by the modulus operator:"
   ]
  },
  {
   "cell_type": "code",
   "execution_count": 28,
   "metadata": {},
   "outputs": [
    {
     "data": {
      "text/plain": [
       "13"
      ]
     },
     "execution_count": 28,
     "metadata": {},
     "output_type": "execute_result"
    }
   ],
   "source": [
    "13 % 26"
   ]
  },
  {
   "cell_type": "markdown",
   "metadata": {},
   "source": [
    "What about negative shifts? What about deciphering a ciphertext 'c' with a shift of 17?"
   ]
  },
  {
   "cell_type": "code",
   "execution_count": 29,
   "metadata": {},
   "outputs": [
    {
     "data": {
      "text/plain": [
       "-15"
      ]
     },
     "execution_count": 29,
     "metadata": {},
     "output_type": "execute_result"
    }
   ],
   "source": [
    "pos('c') - 17"
   ]
  },
  {
   "cell_type": "code",
   "execution_count": 30,
   "metadata": {},
   "outputs": [
    {
     "data": {
      "text/plain": [
       "11"
      ]
     },
     "execution_count": 30,
     "metadata": {},
     "output_type": "execute_result"
    }
   ],
   "source": [
    "(pos('c') - 17) % 26"
   ]
  },
  {
   "cell_type": "markdown",
   "metadata": {},
   "source": [
    "## Your turn: writing `unpos()`\n",
    "Using the examples above, write `unpos()`. It should take a number and convert it to the corresponding letter. If the number is outside the range 0–25, it should be converted to that range. \n",
    "\n",
    "* Hint: `chr()` converts a number to the character of that ASCII code.\n",
    "* Hint: use `ord('a')` to convert the number to the ASCII code we want.\n",
    "* Hint: use `ord('a')` _after_ you've done the modulus operation.\n",
    "\n",
    "If you're stuck, you can [see the solution](unpos-solution.ipynb)."
   ]
  },
  {
   "cell_type": "code",
   "execution_count": 47,
   "metadata": {},
   "outputs": [],
   "source": [
    "# Your solution here"
   ]
  },
  {
   "cell_type": "markdown",
   "metadata": {},
   "source": [
    "## Testing `unpos()`\n",
    "\n",
    "Try a few examples to see if it works."
   ]
  },
  {
   "cell_type": "code",
   "execution_count": 32,
   "metadata": {},
   "outputs": [
    {
     "data": {
      "text/plain": [
       "True"
      ]
     },
     "execution_count": 32,
     "metadata": {},
     "output_type": "execute_result"
    }
   ],
   "source": [
    "unpos(0) == 'a'"
   ]
  },
  {
   "cell_type": "code",
   "execution_count": 33,
   "metadata": {},
   "outputs": [
    {
     "data": {
      "text/plain": [
       "True"
      ]
     },
     "execution_count": 33,
     "metadata": {},
     "output_type": "execute_result"
    }
   ],
   "source": [
    "unpos(25) == 'z'"
   ]
  },
  {
   "cell_type": "code",
   "execution_count": 34,
   "metadata": {},
   "outputs": [
    {
     "data": {
      "text/plain": [
       "True"
      ]
     },
     "execution_count": 34,
     "metadata": {},
     "output_type": "execute_result"
    }
   ],
   "source": [
    "unpos(-1) == 'z'"
   ]
  },
  {
   "cell_type": "code",
   "execution_count": null,
   "metadata": {},
   "outputs": [],
   "source": []
  },
  {
   "cell_type": "code",
   "execution_count": null,
   "metadata": {},
   "outputs": [],
   "source": []
  },
  {
   "cell_type": "markdown",
   "metadata": {},
   "source": [
    "# Enciphering a letter\n",
    "We can use these to write the `caesar_encipher_letter()` function. Remember the pseudocode we wrote:\n",
    "\n",
    "```\n",
    "to caesar-encipher-letter(character, shift):\n",
    "    if character is a letter:\n",
    "        cipherletter = letter + shift\n",
    "        if character is uppercase:\n",
    "            return uppercase(cipherletter)\n",
    "        else:\n",
    "            return cipherletter\n",
    "    else:\n",
    "        return character\n",
    "```"
   ]
  },
  {
   "cell_type": "markdown",
   "metadata": {},
   "source": [
    "# Your turn: writing `caesar_encipher_letter()`\n",
    "\n",
    "The Python code should be almost the same as this. Note that your function should have underscores in its name, not the hyphens I used for pseudocode.\n",
    "\n",
    "Follow the Python syntax for `if` and defining functions. Remember to end `if` and `def` lines with a colon, and to have the different lines align vertically, depending on what block they're part of.\n",
    "\n",
    "If you're stuck, you can [see the solution](caesar_encipher-solution.ipynb)."
   ]
  },
  {
   "cell_type": "code",
   "execution_count": null,
   "metadata": {},
   "outputs": [],
   "source": [
    "def caesar_encipher_letter(letter, shift):\n",
    "    # Your solution here"
   ]
  },
  {
   "cell_type": "code",
   "execution_count": 35,
   "metadata": {},
   "outputs": [],
   "source": [
    "def caesar_encipher_letter(letter, shift):\n",
    "    \"\"\"Encipher a letter, given a shift amount\"\"\"\n",
    "    if letter in string.ascii_letters:\n",
    "        cipherletter = unpos(pos(letter) + shift)\n",
    "        if letter in string.ascii_uppercase:\n",
    "            return cipherletter.upper()\n",
    "        else:\n",
    "            return cipherletter\n",
    "    else:\n",
    "        return letter   "
   ]
  },
  {
   "cell_type": "markdown",
   "metadata": {},
   "source": [
    "## Testing `caesar_encipher_letter()`\n",
    "We've seen that, with a shift of 4, we have the following:\n",
    "\n",
    "| Plaintext | Ciphertext |\n",
    "|:---------:|:----------:|\n",
    "| t | x |\n",
    "| e | i |\n",
    "| s | w | \n",
    "| h | l |\n",
    "| l | p | \n",
    "| o | k |\n",
    "\n",
    "Does your `caesar_encipher_letter()` do that?"
   ]
  },
  {
   "cell_type": "code",
   "execution_count": 36,
   "metadata": {},
   "outputs": [
    {
     "data": {
      "text/plain": [
       "True"
      ]
     },
     "execution_count": 36,
     "metadata": {},
     "output_type": "execute_result"
    }
   ],
   "source": [
    "caesar_encipher_letter('t', 4) == 'x'"
   ]
  },
  {
   "cell_type": "code",
   "execution_count": null,
   "metadata": {},
   "outputs": [],
   "source": []
  },
  {
   "cell_type": "code",
   "execution_count": null,
   "metadata": {},
   "outputs": [],
   "source": []
  },
  {
   "cell_type": "code",
   "execution_count": null,
   "metadata": {},
   "outputs": [],
   "source": []
  },
  {
   "cell_type": "code",
   "execution_count": null,
   "metadata": {},
   "outputs": [],
   "source": []
  },
  {
   "cell_type": "markdown",
   "metadata": {},
   "source": [
    "# Enciphering messages\n",
    "And finally, we can write `caesar_encipher` and `caesar_decipher`.\n",
    "\n",
    "Note the syntax of `encipher += caesar_encipher_letter(character, shift)`. The `+=` is a bit of shorthand for 'increment', so \n",
    "\n",
    "```\n",
    "encipher += caesar_encipher_letter(character, shift)\n",
    "```\n",
    "means the same as \n",
    "```\n",
    "encipher = encipher + caesar_encipher_letter(character, shift)\n",
    "```\n",
    "\n",
    "You can do similar things with other operators, such as `*`, so\n",
    "\n",
    "`item = item + change` and `item += change` are the same, \n",
    "\n",
    "and \n",
    "\n",
    "`item = item * change` and `item *= change` are the same."
   ]
  },
  {
   "cell_type": "code",
   "execution_count": 37,
   "metadata": {},
   "outputs": [],
   "source": [
    "def caesar_encipher(message, shift):\n",
    "    \"\"\"Encipher a message with the Caesar cipher of given shift\"\"\"\n",
    "    enciphered = \"\"\n",
    "    for character in message:\n",
    "        enciphered += caesar_encipher_letter(character, shift)\n",
    "    return enciphered"
   ]
  },
  {
   "cell_type": "code",
   "execution_count": 38,
   "metadata": {},
   "outputs": [],
   "source": [
    "def caesar_decipher(message, shift):\n",
    "    \"\"\"Decipher a message with the Caesar cipher of given shift\"\"\"\n",
    "    return caesar_encipher(message, -shift)"
   ]
  },
  {
   "cell_type": "markdown",
   "metadata": {},
   "source": [
    "## Testing\n",
    "Now let's see if it works:"
   ]
  },
  {
   "cell_type": "code",
   "execution_count": 39,
   "metadata": {},
   "outputs": [
    {
     "data": {
      "text/plain": [
       "'Xlmw mw e xiwx qiwweki.'"
      ]
     },
     "execution_count": 39,
     "metadata": {},
     "output_type": "execute_result"
    }
   ],
   "source": [
    "caesar_encipher('This is a test message.', 4)"
   ]
  },
  {
   "cell_type": "code",
   "execution_count": 40,
   "metadata": {},
   "outputs": [
    {
     "data": {
      "text/plain": [
       "'This is a test message.'"
      ]
     },
     "execution_count": 40,
     "metadata": {},
     "output_type": "execute_result"
    }
   ],
   "source": [
    "caesar_decipher('Xlmw mw e xiwx qiwweki.', 4)"
   ]
  },
  {
   "cell_type": "markdown",
   "metadata": {},
   "source": [
    "Success!\n",
    "\n",
    "Now encipher and decipher your own messages. Send them to your friends. Can they break the codes?\n",
    "\n",
    "In [part 2](2-breaking-ciphers.ipynb) of this workshop, you'll see how you can get a computer to automatically break these ciphers for you."
   ]
  },
  {
   "cell_type": "code",
   "execution_count": null,
   "metadata": {},
   "outputs": [],
   "source": []
  }
 ],
 "metadata": {
  "kernelspec": {
   "display_name": "Python 3",
   "language": "python",
   "name": "python3"
  },
  "language_info": {
   "codemirror_mode": {
    "name": "ipython",
    "version": 3
   },
   "file_extension": ".py",
   "mimetype": "text/x-python",
   "name": "python",
   "nbconvert_exporter": "python",
   "pygments_lexer": "ipython3",
   "version": "3.6.5"
  }
 },
 "nbformat": 4,
 "nbformat_minor": 2
}
