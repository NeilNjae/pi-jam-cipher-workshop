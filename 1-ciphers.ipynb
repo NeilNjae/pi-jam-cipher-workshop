{
 "cells": [
  {
   "cell_type": "markdown",
   "metadata": {},
   "source": [
    "# Caesar ciphers\n",
    "In this workshop, you'll write simple Python programs to encipher and decipher messages using the Caesar cipher. You'll also write a simple program to automatically break messages encrypted with a Caesar cipher."
   ]
  },
  {
   "cell_type": "markdown",
   "metadata": {},
   "source": [
    "We'll be using the [`string` module](https://docs.python.org/3/library/string.html) from Python's standard library. That module defines some useful constants, such as `string.ascii_letters`, `string.ascii_lowercase` and `string.ascii_uppercase`.\n",
    "\n",
    "Let's import it, so it's available for use."
   ]
  },
  {
   "cell_type": "code",
   "execution_count": 3,
   "metadata": {},
   "outputs": [],
   "source": [
    "import string"
   ]
  },
  {
   "cell_type": "markdown",
   "metadata": {},
   "source": [
    "## What is a [Caesar cipher](https://en.wikipedia.org/wiki/Caesar_cipher)?\n",
    "\n",
    "![360px-Cipher_device](360px-Cipher_device.jpg)\n",
    "\n",
    "The [Caesar cipher](https://en.wikipedia.org/wiki/Caesar_cipher) is a simple cipher where each plaintext letter is shifted some positions along the alphabet to give the ciphertext letter. It can be used with two concentric wheel, like in the photo. You align the inner wheel with the appropriate part of the outer wheel. You can then find the plaintext letter in the inner wheel and the ciphertext letter is the corresponding one in the outer wheel.\n",
    "\n",
    "Encryption happens letter by letter. Non-letter characters generally stay the same. \n",
    "\n",
    "Decryption works the other way, just in reverse. To find the plaintext letter, reverse the original shift from the ciphertext letter. \n",
    "\n",
    "For example, a shift of four would make the following conversions:\n",
    "\n",
    "| Plaintext | A | B | C | D | E | F | G | H | I | J | K | L | M | N | O | P | Q | R | S | T | U | V | W | X | Y | Z |\n",
    "|---|---|---|---|---|---|---|---|---|---|---|---|---|---|---|---|---|---|---|---|---|---|---|---|---|---|---|\n",
    "| Ciphertext | E | F | G | H | I | J | K | L | M | N | O | P | Q | R | S | T | U | V | W | X | Y | Z | A | B | C | D |\n",
    "\n",
    "The word `test` would be enciphered as `xiwx`, and `lippk` would be deciphered to `hello`."
   ]
  },
  {
   "cell_type": "markdown",
   "metadata": {},
   "source": [
    "## Implementing the Caesar cipher\n",
    "\n",
    "How should we go about writing a program to do this? \n",
    "\n",
    "As each letter is enciphered independently, we can do a very simple function to encipher a message:\n",
    "\n",
    "```\n",
    "to ceasar-encipher (message, shift):\n",
    "    for each character in message:\n",
    "        caesar-encipher-letter (character, shift)\n",
    "```\n",
    "\n",
    "Similarly, we can exploit that the deciphering is just enciphering with a negative shift, and write a very simple function to decipher a message:\n",
    "\n",
    "```\n",
    "to caesar-decipher (message, shift):\n",
    "    caesar-encipher (message, -shift)\n",
    "```\n",
    "\n",
    "How do we encipher a character? We need to be a bit *defensive* here, and account for the fact that we may be passed non-letters. We also have to think about how we want to handle upper- and lower-case letters. Should non-letters be removed from the result, kept unchanged, cause an error, or something else? Should all letters be converted to upper-case, or all converted to lowercase? \n",
    "\n",
    "I'll be conservative here, and say that non-letters are retained unchanged, and the case of letters should be retained. \n",
    "\n",
    "This means I can write `caesar-encipher-letter` as:\n",
    "\n",
    "```\n",
    "to caesar-encipher-letter(character, shift):\n",
    "    if character is a letter:\n",
    "        cipherletter = letter + shift\n",
    "        if character is uppercasea:\n",
    "            return uppercase(cipherletter)\n",
    "        else:\n",
    "            return cipherletter\n",
    "    else:\n",
    "        return character\n",
    "```\n",
    "\n",
    "The only complication is the `letter + shift` bit: most programming languages will reject this statement as characters and numbers can't be added together.\n",
    "\n",
    "As we'll be doing a lot of this sort of thing in future, let's define a couple of utility functions which convert letters to their positions in the alphabet, and back again. Because we'll be using these functions a lot, I give them deliberately short names. `pos` finds the position of a letter in the alphabet, ignoring case, and `raise`ing an error if it's given something other than a letter. "
   ]
  },
  {
   "cell_type": "code",
   "execution_count": 2,
   "metadata": {},
   "outputs": [],
   "source": [
    "def pos(letter): \n",
    "    \"\"\"Return the position of a letter in the alphabet (0-25)\"\"\"\n",
    "    if letter in string.ascii_lowercase:\n",
    "        return ord(letter) - ord('a')\n",
    "    elif letter in string.ascii_uppercase:\n",
    "        return ord(letter) - ord('A')\n",
    "    else:\n",
    "        raise ValueError('pos requires input of {} to be an ascii letter'.format(letter))"
   ]
  },
  {
   "cell_type": "markdown",
   "metadata": {},
   "source": [
    "`unpos` does the reverse, convering a number into a (lowercase) letter. If the number is outside the range 0–25, the modulus operator, `%`, trims the number into that range. "
   ]
  },
  {
   "cell_type": "code",
   "execution_count": 4,
   "metadata": {},
   "outputs": [],
   "source": [
    "def unpos(number): \n",
    "    \"\"\"Return the letter in the given position in the alphabet (mod 26)\"\"\"\n",
    "    return chr(number % 26 + ord('a'))"
   ]
  },
  {
   "cell_type": "markdown",
   "metadata": {},
   "source": [
    "We can use these to write the `caesar_encipher_letter` function:"
   ]
  },
  {
   "cell_type": "code",
   "execution_count": 11,
   "metadata": {},
   "outputs": [],
   "source": [
    "def caesar_encipher_letter(letter, shift):\n",
    "    \"\"\"Encipher a letter, given a shift amount\"\"\"\n",
    "    if letter in string.ascii_letters:\n",
    "        cipherletter = unpos(pos(letter) + shift)\n",
    "        if letter in string.ascii_uppercase:\n",
    "            return cipherletter.upper()\n",
    "        else:\n",
    "            return cipherletter\n",
    "    else:\n",
    "        return letter      "
   ]
  },
  {
   "cell_type": "markdown",
   "metadata": {},
   "source": [
    "And finally, we can write `caesar_encipher` and `caesar_decipher`:"
   ]
  },
  {
   "cell_type": "code",
   "execution_count": 6,
   "metadata": {},
   "outputs": [],
   "source": [
    "def caesar_encipher(message, shift):\n",
    "    \"\"\"Encipher a message with the Caesar cipher of given shift\"\"\"\n",
    "    enciphered = \"\"\n",
    "    for character in message:\n",
    "        enciphered.append(caesar_encipher_letter(l, shift))\n",
    "    return enciphered"
   ]
  },
  {
   "cell_type": "code",
   "execution_count": 7,
   "metadata": {},
   "outputs": [],
   "source": [
    "def caesar_decipher(message, shift):\n",
    "    \"\"\"Decipher a message with the Caesar cipher of given shift\"\"\"\n",
    "    return caesar_encipher(message, -shift)"
   ]
  },
  {
   "cell_type": "markdown",
   "metadata": {},
   "source": [
    "However, all those `append` calls in `caesar_encipher` seem a bit wasteful. It's better if we use a *list comprehension* to walk along the characters in the message, enciphering each one as we go."
   ]
  },
  {
   "cell_type": "code",
   "execution_count": 8,
   "metadata": {},
   "outputs": [],
   "source": [
    "def caesar_encipher(message, shift):\n",
    "    \"\"\"Encipher a message with the Caesar cipher of given shift\"\"\"\n",
    "    enciphered = [caesar_encipher_letter(l, shift) for l in message]\n",
    "    return cat(enciphered)"
   ]
  },
  {
   "cell_type": "markdown",
   "metadata": {},
   "source": [
    "Because this returns a list of characters where we want a string, let's define a little function do the conversion:"
   ]
  },
  {
   "cell_type": "code",
   "execution_count": 9,
   "metadata": {},
   "outputs": [],
   "source": [
    "cat = ''.join"
   ]
  },
  {
   "cell_type": "markdown",
   "metadata": {},
   "source": [
    "## Testing\n",
    "Now let's see if it works:"
   ]
  },
  {
   "cell_type": "code",
   "execution_count": 12,
   "metadata": {},
   "outputs": [
    {
     "data": {
      "text/plain": [
       "'Xlmw mw e xiwx qiwweki.'"
      ]
     },
     "execution_count": 12,
     "metadata": {},
     "output_type": "execute_result"
    }
   ],
   "source": [
    "caesar_encipher('This is a test message.', 4)"
   ]
  },
  {
   "cell_type": "code",
   "execution_count": 13,
   "metadata": {},
   "outputs": [
    {
     "data": {
      "text/plain": [
       "'This is a test message.'"
      ]
     },
     "execution_count": 13,
     "metadata": {},
     "output_type": "execute_result"
    }
   ],
   "source": [
    "caesar_decipher('Xlmw mw e xiwx qiwweki.', 4)"
   ]
  },
  {
   "cell_type": "markdown",
   "metadata": {},
   "source": [
    "Success!"
   ]
  },
  {
   "cell_type": "code",
   "execution_count": null,
   "metadata": {},
   "outputs": [],
   "source": []
  }
 ],
 "metadata": {
  "kernelspec": {
   "display_name": "Python 3",
   "language": "python",
   "name": "python3"
  },
  "language_info": {
   "codemirror_mode": {
    "name": "ipython",
    "version": 3
   },
   "file_extension": ".py",
   "mimetype": "text/x-python",
   "name": "python",
   "nbconvert_exporter": "python",
   "pygments_lexer": "ipython3",
   "version": "3.6.3"
  }
 },
 "nbformat": 4,
 "nbformat_minor": 2
}
