{
 "cells": [
  {
   "cell_type": "code",
   "execution_count": 70,
   "metadata": {},
   "outputs": [],
   "source": [
    "def caesar_break(message):\n",
    "    \"\"\"Breaks a Caesar cipher using frequency analysis\"\"\"\n",
    "    # Set bad values for the best shift we've found\n",
    "    best_key = 0\n",
    "    best_prob = float('-inf')\n",
    "    \n",
    "    # Try each key\n",
    "    for key in range(26):\n",
    "        \n",
    "        # Decipher the message with this key, find it's probability\n",
    "        plaintext = caesar_decipher(message, key)\n",
    "        log_prob_score = log_text_probability(plaintext)\n",
    "        \n",
    "        # If this looks more like English than any we've seen,\n",
    "        # record it as the best so far\n",
    "        if log_prob_score > best_prob:\n",
    "            best_prob = log_prob_score\n",
    "            best_key = key\n",
    "            \n",
    "    # Return the best we found\n",
    "    return best_key, best_prob"
   ]
  }
 ],
 "metadata": {
  "kernelspec": {
   "display_name": "Python 3",
   "language": "python",
   "name": "python3"
  },
  "language_info": {
   "codemirror_mode": {
    "name": "ipython",
    "version": 3
   },
   "file_extension": ".py",
   "mimetype": "text/x-python",
   "name": "python",
   "nbconvert_exporter": "python",
   "pygments_lexer": "ipython3",
   "version": "3.6.3"
  }
 },
 "nbformat": 4,
 "nbformat_minor": 2
}
